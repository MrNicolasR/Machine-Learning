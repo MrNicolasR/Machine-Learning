{
 "cells": [
  {
   "cell_type": "code",
   "execution_count": 4092,
   "metadata": {
    "collapsed": true
   },
   "outputs": [],
   "source": [
    "# Nicolas Rubert\n",
    "# 172007365\n",
    "# Nar126\n",
    "\n",
    "# Import Required Packages\n",
    "import pandas as pd\n",
    "import numpy as np\n",
    "# Plotting Libaries\n",
    "from matplotlib import pyplot as plt\n",
    "import seaborn as sb\n",
    "# ML libarary\n",
    "from sklearn.preprocessing import LabelEncoder\n",
    "from sklearn.model_selection import cross_val_score\n",
    "from sklearn.linear_model import LogisticRegression\n",
    "from sklearn.tree import DecisionTreeClassifier\n",
    "from sklearn.neighbors import KNeighborsClassifier\n"
   ]
  },
  {
   "cell_type": "code",
   "execution_count": 4093,
   "metadata": {
    "pycharm": {
     "name": "#%%\n"
    }
   },
   "outputs": [],
   "source": [
    "# Read the Dataset\n",
    "loan_df = pd.read_csv('LoanDataset.csv')"
   ]
  },
  {
   "cell_type": "markdown",
   "metadata": {},
   "source": [
    "# Preprocessing"
   ]
  },
  {
   "cell_type": "code",
   "execution_count": 4094,
   "metadata": {
    "pycharm": {
     "name": "#%%\n"
    }
   },
   "outputs": [
    {
     "name": "stdout",
     "output_type": "stream",
     "text": [
      "(614, 13)\n"
     ]
    }
   ],
   "source": [
    "# Print the dataframe's shape\n",
    "print(loan_df.shape)"
   ]
  },
  {
   "cell_type": "code",
   "execution_count": 4095,
   "metadata": {
    "pycharm": {
     "name": "#%%\n"
    }
   },
   "outputs": [
    {
     "data": {
      "text/plain": "     Loan_ID  Gender Married Dependents     Education Self_Employed  \\\n0   LP001002    Male      No          0      Graduate            No   \n1   LP001003    Male     Yes          1      Graduate            No   \n2   LP001005    Male     Yes          0      Graduate           Yes   \n3   LP001006    Male     Yes          0  Not Graduate            No   \n4   LP001008    Male      No          0      Graduate            No   \n5   LP001011    Male     Yes          2      Graduate           Yes   \n6   LP001013    Male     Yes          0  Not Graduate            No   \n7   LP001014    Male     Yes         3+      Graduate            No   \n8   LP001018    Male     Yes          2      Graduate            No   \n9   LP001020    Male     Yes          1      Graduate            No   \n10  LP001024    Male     Yes          2      Graduate            No   \n11  LP001027    Male     Yes          2      Graduate           NaN   \n12  LP001028    Male     Yes          2      Graduate            No   \n13  LP001029    Male      No          0      Graduate            No   \n14  LP001030    Male     Yes          2      Graduate            No   \n15  LP001032    Male      No          0      Graduate            No   \n16  LP001034    Male      No          1  Not Graduate            No   \n17  LP001036  Female      No          0      Graduate            No   \n18  LP001038    Male     Yes          0  Not Graduate            No   \n19  LP001041    Male     Yes          0      Graduate           NaN   \n\n    ApplicantIncome  CoapplicantIncome  LoanAmount  Loan_Amount_Term  \\\n0              5849                0.0         NaN             360.0   \n1              4583             1508.0       128.0             360.0   \n2              3000                0.0        66.0             360.0   \n3              2583             2358.0       120.0             360.0   \n4              6000                0.0       141.0             360.0   \n5              5417             4196.0       267.0             360.0   \n6              2333             1516.0        95.0             360.0   \n7              3036             2504.0       158.0             360.0   \n8              4006             1526.0       168.0             360.0   \n9             12841            10968.0       349.0             360.0   \n10             3200              700.0        70.0             360.0   \n11             2500             1840.0       109.0             360.0   \n12             3073             8106.0       200.0             360.0   \n13             1853             2840.0       114.0             360.0   \n14             1299             1086.0        17.0             120.0   \n15             4950                0.0       125.0             360.0   \n16             3596                0.0       100.0             240.0   \n17             3510                0.0        76.0             360.0   \n18             4887                0.0       133.0             360.0   \n19             2600             3500.0       115.0               NaN   \n\n    Credit_History Property_Area Loan_Status  \n0              1.0         Urban           Y  \n1              1.0         Rural           N  \n2              1.0         Urban           Y  \n3              1.0         Urban           Y  \n4              1.0         Urban           Y  \n5              1.0         Urban           Y  \n6              1.0         Urban           Y  \n7              0.0     Semiurban           N  \n8              1.0         Urban           Y  \n9              1.0     Semiurban           N  \n10             1.0         Urban           Y  \n11             1.0         Urban           Y  \n12             1.0         Urban           Y  \n13             1.0         Rural           N  \n14             1.0         Urban           Y  \n15             1.0         Urban           Y  \n16             NaN         Urban           Y  \n17             0.0         Urban           N  \n18             1.0         Rural           N  \n19             1.0         Urban           Y  ",
      "text/html": "<div>\n<style scoped>\n    .dataframe tbody tr th:only-of-type {\n        vertical-align: middle;\n    }\n\n    .dataframe tbody tr th {\n        vertical-align: top;\n    }\n\n    .dataframe thead th {\n        text-align: right;\n    }\n</style>\n<table border=\"1\" class=\"dataframe\">\n  <thead>\n    <tr style=\"text-align: right;\">\n      <th></th>\n      <th>Loan_ID</th>\n      <th>Gender</th>\n      <th>Married</th>\n      <th>Dependents</th>\n      <th>Education</th>\n      <th>Self_Employed</th>\n      <th>ApplicantIncome</th>\n      <th>CoapplicantIncome</th>\n      <th>LoanAmount</th>\n      <th>Loan_Amount_Term</th>\n      <th>Credit_History</th>\n      <th>Property_Area</th>\n      <th>Loan_Status</th>\n    </tr>\n  </thead>\n  <tbody>\n    <tr>\n      <th>0</th>\n      <td>LP001002</td>\n      <td>Male</td>\n      <td>No</td>\n      <td>0</td>\n      <td>Graduate</td>\n      <td>No</td>\n      <td>5849</td>\n      <td>0.0</td>\n      <td>NaN</td>\n      <td>360.0</td>\n      <td>1.0</td>\n      <td>Urban</td>\n      <td>Y</td>\n    </tr>\n    <tr>\n      <th>1</th>\n      <td>LP001003</td>\n      <td>Male</td>\n      <td>Yes</td>\n      <td>1</td>\n      <td>Graduate</td>\n      <td>No</td>\n      <td>4583</td>\n      <td>1508.0</td>\n      <td>128.0</td>\n      <td>360.0</td>\n      <td>1.0</td>\n      <td>Rural</td>\n      <td>N</td>\n    </tr>\n    <tr>\n      <th>2</th>\n      <td>LP001005</td>\n      <td>Male</td>\n      <td>Yes</td>\n      <td>0</td>\n      <td>Graduate</td>\n      <td>Yes</td>\n      <td>3000</td>\n      <td>0.0</td>\n      <td>66.0</td>\n      <td>360.0</td>\n      <td>1.0</td>\n      <td>Urban</td>\n      <td>Y</td>\n    </tr>\n    <tr>\n      <th>3</th>\n      <td>LP001006</td>\n      <td>Male</td>\n      <td>Yes</td>\n      <td>0</td>\n      <td>Not Graduate</td>\n      <td>No</td>\n      <td>2583</td>\n      <td>2358.0</td>\n      <td>120.0</td>\n      <td>360.0</td>\n      <td>1.0</td>\n      <td>Urban</td>\n      <td>Y</td>\n    </tr>\n    <tr>\n      <th>4</th>\n      <td>LP001008</td>\n      <td>Male</td>\n      <td>No</td>\n      <td>0</td>\n      <td>Graduate</td>\n      <td>No</td>\n      <td>6000</td>\n      <td>0.0</td>\n      <td>141.0</td>\n      <td>360.0</td>\n      <td>1.0</td>\n      <td>Urban</td>\n      <td>Y</td>\n    </tr>\n    <tr>\n      <th>5</th>\n      <td>LP001011</td>\n      <td>Male</td>\n      <td>Yes</td>\n      <td>2</td>\n      <td>Graduate</td>\n      <td>Yes</td>\n      <td>5417</td>\n      <td>4196.0</td>\n      <td>267.0</td>\n      <td>360.0</td>\n      <td>1.0</td>\n      <td>Urban</td>\n      <td>Y</td>\n    </tr>\n    <tr>\n      <th>6</th>\n      <td>LP001013</td>\n      <td>Male</td>\n      <td>Yes</td>\n      <td>0</td>\n      <td>Not Graduate</td>\n      <td>No</td>\n      <td>2333</td>\n      <td>1516.0</td>\n      <td>95.0</td>\n      <td>360.0</td>\n      <td>1.0</td>\n      <td>Urban</td>\n      <td>Y</td>\n    </tr>\n    <tr>\n      <th>7</th>\n      <td>LP001014</td>\n      <td>Male</td>\n      <td>Yes</td>\n      <td>3+</td>\n      <td>Graduate</td>\n      <td>No</td>\n      <td>3036</td>\n      <td>2504.0</td>\n      <td>158.0</td>\n      <td>360.0</td>\n      <td>0.0</td>\n      <td>Semiurban</td>\n      <td>N</td>\n    </tr>\n    <tr>\n      <th>8</th>\n      <td>LP001018</td>\n      <td>Male</td>\n      <td>Yes</td>\n      <td>2</td>\n      <td>Graduate</td>\n      <td>No</td>\n      <td>4006</td>\n      <td>1526.0</td>\n      <td>168.0</td>\n      <td>360.0</td>\n      <td>1.0</td>\n      <td>Urban</td>\n      <td>Y</td>\n    </tr>\n    <tr>\n      <th>9</th>\n      <td>LP001020</td>\n      <td>Male</td>\n      <td>Yes</td>\n      <td>1</td>\n      <td>Graduate</td>\n      <td>No</td>\n      <td>12841</td>\n      <td>10968.0</td>\n      <td>349.0</td>\n      <td>360.0</td>\n      <td>1.0</td>\n      <td>Semiurban</td>\n      <td>N</td>\n    </tr>\n    <tr>\n      <th>10</th>\n      <td>LP001024</td>\n      <td>Male</td>\n      <td>Yes</td>\n      <td>2</td>\n      <td>Graduate</td>\n      <td>No</td>\n      <td>3200</td>\n      <td>700.0</td>\n      <td>70.0</td>\n      <td>360.0</td>\n      <td>1.0</td>\n      <td>Urban</td>\n      <td>Y</td>\n    </tr>\n    <tr>\n      <th>11</th>\n      <td>LP001027</td>\n      <td>Male</td>\n      <td>Yes</td>\n      <td>2</td>\n      <td>Graduate</td>\n      <td>NaN</td>\n      <td>2500</td>\n      <td>1840.0</td>\n      <td>109.0</td>\n      <td>360.0</td>\n      <td>1.0</td>\n      <td>Urban</td>\n      <td>Y</td>\n    </tr>\n    <tr>\n      <th>12</th>\n      <td>LP001028</td>\n      <td>Male</td>\n      <td>Yes</td>\n      <td>2</td>\n      <td>Graduate</td>\n      <td>No</td>\n      <td>3073</td>\n      <td>8106.0</td>\n      <td>200.0</td>\n      <td>360.0</td>\n      <td>1.0</td>\n      <td>Urban</td>\n      <td>Y</td>\n    </tr>\n    <tr>\n      <th>13</th>\n      <td>LP001029</td>\n      <td>Male</td>\n      <td>No</td>\n      <td>0</td>\n      <td>Graduate</td>\n      <td>No</td>\n      <td>1853</td>\n      <td>2840.0</td>\n      <td>114.0</td>\n      <td>360.0</td>\n      <td>1.0</td>\n      <td>Rural</td>\n      <td>N</td>\n    </tr>\n    <tr>\n      <th>14</th>\n      <td>LP001030</td>\n      <td>Male</td>\n      <td>Yes</td>\n      <td>2</td>\n      <td>Graduate</td>\n      <td>No</td>\n      <td>1299</td>\n      <td>1086.0</td>\n      <td>17.0</td>\n      <td>120.0</td>\n      <td>1.0</td>\n      <td>Urban</td>\n      <td>Y</td>\n    </tr>\n    <tr>\n      <th>15</th>\n      <td>LP001032</td>\n      <td>Male</td>\n      <td>No</td>\n      <td>0</td>\n      <td>Graduate</td>\n      <td>No</td>\n      <td>4950</td>\n      <td>0.0</td>\n      <td>125.0</td>\n      <td>360.0</td>\n      <td>1.0</td>\n      <td>Urban</td>\n      <td>Y</td>\n    </tr>\n    <tr>\n      <th>16</th>\n      <td>LP001034</td>\n      <td>Male</td>\n      <td>No</td>\n      <td>1</td>\n      <td>Not Graduate</td>\n      <td>No</td>\n      <td>3596</td>\n      <td>0.0</td>\n      <td>100.0</td>\n      <td>240.0</td>\n      <td>NaN</td>\n      <td>Urban</td>\n      <td>Y</td>\n    </tr>\n    <tr>\n      <th>17</th>\n      <td>LP001036</td>\n      <td>Female</td>\n      <td>No</td>\n      <td>0</td>\n      <td>Graduate</td>\n      <td>No</td>\n      <td>3510</td>\n      <td>0.0</td>\n      <td>76.0</td>\n      <td>360.0</td>\n      <td>0.0</td>\n      <td>Urban</td>\n      <td>N</td>\n    </tr>\n    <tr>\n      <th>18</th>\n      <td>LP001038</td>\n      <td>Male</td>\n      <td>Yes</td>\n      <td>0</td>\n      <td>Not Graduate</td>\n      <td>No</td>\n      <td>4887</td>\n      <td>0.0</td>\n      <td>133.0</td>\n      <td>360.0</td>\n      <td>1.0</td>\n      <td>Rural</td>\n      <td>N</td>\n    </tr>\n    <tr>\n      <th>19</th>\n      <td>LP001041</td>\n      <td>Male</td>\n      <td>Yes</td>\n      <td>0</td>\n      <td>Graduate</td>\n      <td>NaN</td>\n      <td>2600</td>\n      <td>3500.0</td>\n      <td>115.0</td>\n      <td>NaN</td>\n      <td>1.0</td>\n      <td>Urban</td>\n      <td>Y</td>\n    </tr>\n  </tbody>\n</table>\n</div>"
     },
     "execution_count": 4095,
     "metadata": {},
     "output_type": "execute_result"
    }
   ],
   "source": [
    "# Printing the first 20 entries in the dataframe\n",
    "loan_df.head(20)\n"
   ]
  },
  {
   "cell_type": "code",
   "execution_count": 4096,
   "metadata": {
    "pycharm": {
     "name": "#%%\n"
    }
   },
   "outputs": [
    {
     "data": {
      "text/plain": "Loan_ID               0\nGender               13\nMarried               3\nDependents           15\nEducation             0\nSelf_Employed        32\nApplicantIncome       0\nCoapplicantIncome     0\nLoanAmount           22\nLoan_Amount_Term     14\nCredit_History       50\nProperty_Area         0\nLoan_Status           0\ndtype: int64"
     },
     "execution_count": 4096,
     "metadata": {},
     "output_type": "execute_result"
    }
   ],
   "source": [
    "# Find all the null values in the dataset\n",
    "loan_df.isnull().sum()\n"
   ]
  },
  {
   "cell_type": "code",
   "execution_count": 4097,
   "metadata": {
    "pycharm": {
     "name": "#%%\n"
    }
   },
   "outputs": [
    {
     "name": "stdout",
     "output_type": "stream",
     "text": [
      "489\n",
      "112\n"
     ]
    }
   ],
   "source": [
    "# Get the number of males/females in the dataset\n",
    "print(loan_df['Gender'].value_counts()['Male'])\n",
    "print(loan_df['Gender'].value_counts()['Female'])\n",
    "\n",
    "# Convert Null values in Gender to Females (Done to make the amount of Males vs Females closer)\n",
    "loan_df[\"Gender\"].fillna(\"Female\", inplace = True)"
   ]
  },
  {
   "cell_type": "code",
   "execution_count": 4098,
   "metadata": {
    "pycharm": {
     "name": "#%%\n"
    }
   },
   "outputs": [
    {
     "name": "stdout",
     "output_type": "stream",
     "text": [
      "398\n",
      "213\n"
     ]
    }
   ],
   "source": [
    "# Get the number of Married Vs Single in the dataset\n",
    "print(loan_df['Married'].value_counts()['Yes'])\n",
    "print(loan_df['Married'].value_counts()['No'])\n",
    "\n",
    "# Convert Null values in Married to No (Done to make the amount of Yes vs No closer)\n",
    "loan_df['Married'].fillna('No', inplace = True)"
   ]
  },
  {
   "cell_type": "code",
   "execution_count": 4099,
   "metadata": {
    "pycharm": {
     "name": "#%%\n"
    }
   },
   "outputs": [],
   "source": [
    "# Convert Null values in Dependents to 0\n",
    "loan_df['Dependents'].fillna('0', inplace = True)"
   ]
  },
  {
   "cell_type": "code",
   "execution_count": 4100,
   "metadata": {
    "pycharm": {
     "name": "#%%\n"
    }
   },
   "outputs": [
    {
     "name": "stdout",
     "output_type": "stream",
     "text": [
      "82\n",
      "500\n"
     ]
    }
   ],
   "source": [
    "# Get the number of Self Employed vs Employees\n",
    "print(loan_df['Self_Employed'].value_counts()['Yes'])\n",
    "print(loan_df['Self_Employed'].value_counts()['No'])\n",
    "\n",
    "# According to labor statics from 2015 (https://www.bls.gov/spotlight/2016/self-employment-in-the-united-states/pdf/self-employment-in-the-united-states.pdf)\n",
    "# Only 10.9% of Americans in the workforce are Self Employed\n",
    "# Make Null into No\n",
    "loan_df['Self_Employed'].fillna('No', inplace = True)"
   ]
  },
  {
   "cell_type": "code",
   "execution_count": 4101,
   "metadata": {
    "pycharm": {
     "name": "#%%\n"
    }
   },
   "outputs": [],
   "source": [
    "# Replace null values with the mean\n",
    "loan_df['LoanAmount'] = loan_df['LoanAmount'].fillna(loan_df['LoanAmount'].mean())\n",
    "loan_df['Loan_Amount_Term'] = loan_df['Loan_Amount_Term'].fillna(loan_df['Loan_Amount_Term'].mean())\n",
    "loan_df['Credit_History'] = loan_df['Credit_History'].fillna(loan_df['Credit_History'].mean())\n"
   ]
  },
  {
   "cell_type": "code",
   "execution_count": 4102,
   "metadata": {
    "pycharm": {
     "name": "#%%\n"
    }
   },
   "outputs": [
    {
     "data": {
      "text/plain": "Loan_ID              0\nGender               0\nMarried              0\nDependents           0\nEducation            0\nSelf_Employed        0\nApplicantIncome      0\nCoapplicantIncome    0\nLoanAmount           0\nLoan_Amount_Term     0\nCredit_History       0\nProperty_Area        0\nLoan_Status          0\ndtype: int64"
     },
     "execution_count": 4102,
     "metadata": {},
     "output_type": "execute_result"
    }
   ],
   "source": [
    "# Print the number of null values after preprocessing\n",
    "loan_df.isnull().sum()\n"
   ]
  },
  {
   "cell_type": "markdown",
   "metadata": {},
   "source": [
    "# Data Visualized\n"
   ]
  },
  {
   "cell_type": "markdown",
   "metadata": {},
   "source": [
    "<h2>Male vs Female Applicants</h2>\n"
   ]
  },
  {
   "cell_type": "code",
   "execution_count": 4103,
   "metadata": {
    "pycharm": {
     "name": "#%%\n"
    }
   },
   "outputs": [
    {
     "data": {
      "text/plain": "<Figure size 460.8x345.6 with 1 Axes>",
      "image/png": "[encoded data removed]"
     },
     "metadata": {
      "needs_background": "light"
     },
     "output_type": "display_data"
    }
   ],
   "source": [
    "# Male vs Female Applicants Plot\n",
    "names = ['Male', 'Female']\n",
    "values = [\n",
    "    loan_df['Gender'].value_counts()['Male'],\n",
    "    loan_df['Gender'].value_counts()['Female']\n",
    "]\n",
    "\n",
    "plt.figure(figsize=(6.4,4.8))\n",
    "plt.bar(names, values, color=('royalblue','lightpink'))\n",
    "plt.ylabel('Applicants')\n",
    "plt.suptitle('Number of Male vs. Female Applicants')\n",
    "plt.show()\n"
   ]
  },
  {
   "cell_type": "markdown",
   "metadata": {},
   "source": [
    "<h2>Married vs. Single Applicants</h2>\n"
   ]
  },
  {
   "cell_type": "code",
   "execution_count": 4104,
   "metadata": {
    "pycharm": {
     "name": "#%%\n"
    }
   },
   "outputs": [
    {
     "data": {
      "text/plain": "<Figure size 460.8x345.6 with 1 Axes>",
      "image/png": "[encoded data removed]"
     },
     "metadata": {
      "needs_background": "light"
     },
     "output_type": "display_data"
    }
   ],
   "source": [
    "# Married vs Single Applicants Plot\n",
    "names = ['Married', 'Single']\n",
    "values = [\n",
    "    loan_df['Married'].value_counts()['Yes'],\n",
    "    loan_df['Married'].value_counts()['No']\n",
    "]\n",
    "\n",
    "plt.figure(figsize=(6.4,4.8))\n",
    "plt.bar(names, values, color=('cornflowerblue','gold'))\n",
    "plt.ylabel('Applicants')\n",
    "plt.suptitle('Number of Married vs. Single Applicants')\n",
    "plt.show()"
   ]
  },
  {
   "cell_type": "markdown",
   "metadata": {},
   "source": [
    "<h2>Number of Dependents</h2>\n",
    "\n"
   ]
  },
  {
   "cell_type": "code",
   "execution_count": 4105,
   "metadata": {
    "pycharm": {
     "name": "#%%\n"
    }
   },
   "outputs": [
    {
     "data": {
      "text/plain": "<Figure size 460.8x345.6 with 1 Axes>",
      "image/png": "[encoded data removed]"
     },
     "metadata": {
      "needs_background": "light"
     },
     "output_type": "display_data"
    }
   ],
   "source": [
    "# Rem\n",
    "# Property Type\n",
    "names = ['0', '1', '2', '3+']\n",
    "values = [\n",
    "    loan_df['Dependents'].value_counts()['0'],\n",
    "    loan_df['Dependents'].value_counts()['1'],\n",
    "    loan_df['Dependents'].value_counts()['2'],\n",
    "    loan_df['Dependents'].value_counts()['3+'],\n",
    "]\n",
    "\n",
    "plt.figure(figsize=(6.4,4.8))\n",
    "plt.bar(names, values, color=('green','gold','purple','red'))\n",
    "plt.ylabel('Applicants')\n",
    "plt.suptitle('Amount of Dependents')\n",
    "plt.show()"
   ]
  },
  {
   "cell_type": "markdown",
   "metadata": {},
   "source": [
    "<h2>Self Employed vs Employee </h2>"
   ]
  },
  {
   "cell_type": "code",
   "execution_count": 4106,
   "metadata": {
    "pycharm": {
     "name": "#%%\n"
    }
   },
   "outputs": [
    {
     "data": {
      "text/plain": "<Figure size 460.8x345.6 with 1 Axes>",
      "image/png": "[encoded data removed]"
     },
     "metadata": {
      "needs_background": "light"
     },
     "output_type": "display_data"
    }
   ],
   "source": [
    "# Self Employed vs Employee Applicants Plot\n",
    "names = ['Self Employed', 'Employee']\n",
    "values = [loan_df['Self_Employed'].value_counts()['Yes'], loan_df['Self_Employed'].value_counts()['No']]\n",
    "\n",
    "plt.figure(figsize=(6.4,4.8))\n",
    "plt.bar(names, values, color=('gold','cornflowerblue'))\n",
    "plt.ylabel('Applicants')\n",
    "plt.suptitle('Number of Self Employed vs. Employee')\n",
    "plt.show()"
   ]
  },
  {
   "cell_type": "markdown",
   "metadata": {},
   "source": [
    "<h2>Average Applicant Income</h2>\n"
   ]
  },
  {
   "cell_type": "code",
   "execution_count": 4107,
   "metadata": {
    "pycharm": {
     "name": "#%%\n"
    }
   },
   "outputs": [
    {
     "data": {
      "text/plain": "<Figure size 460.8x345.6 with 1 Axes>",
      "image/png": "[encoded data removed]"
     },
     "metadata": {
      "needs_background": "light"
     },
     "output_type": "display_data"
    }
   ],
   "source": [
    "# Average\n",
    "plt.figure(figsize=(6.4,4.8))\n",
    "plt.hist(loan_df['ApplicantIncome'], color='cornflowerblue',edgecolor='black')\n",
    "plt.ylabel('Applicants')\n",
    "plt.xlabel('Income Amount')\n",
    "plt.suptitle('Average Applicant Income')\n",
    "plt.show()"
   ]
  },
  {
   "cell_type": "markdown",
   "metadata": {},
   "source": [
    "<h2>Average Loan Amount</h2>\n"
   ]
  },
  {
   "cell_type": "code",
   "execution_count": 4108,
   "metadata": {
    "pycharm": {
     "name": "#%%\n"
    }
   },
   "outputs": [
    {
     "data": {
      "text/plain": "<Figure size 460.8x345.6 with 1 Axes>",
      "image/png": "[encoded data removed]"
     },
     "metadata": {
      "needs_background": "light"
     },
     "output_type": "display_data"
    }
   ],
   "source": [
    "# Average\n",
    "plt.figure(figsize=(6.4,4.8))\n",
    "plt.hist(loan_df['LoanAmount'],color='cornflowerblue', edgecolor='black')\n",
    "plt.ylabel('Applicants')\n",
    "plt.xlabel('Loan Amount')\n",
    "plt.suptitle('Average Loan Amount')\n",
    "plt.show()"
   ]
  },
  {
   "cell_type": "markdown",
   "metadata": {},
   "source": [
    "<h2>Average Loan Term</h2>\n"
   ]
  },
  {
   "cell_type": "code",
   "execution_count": 4109,
   "metadata": {
    "pycharm": {
     "name": "#%%\n"
    }
   },
   "outputs": [
    {
     "data": {
      "text/plain": "<Figure size 460.8x345.6 with 1 Axes>",
      "image/png": "[encoded data removed]"
     },
     "metadata": {
      "needs_background": "light"
     },
     "output_type": "display_data"
    }
   ],
   "source": [
    "#Average\n",
    "plt.figure(figsize=(6.4,4.8))\n",
    "plt.hist(loan_df['Loan_Amount_Term'], color='cornflowerblue' ,edgecolor='black')\n",
    "plt.ylabel('Applicants')\n",
    "plt.xlabel('Months')\n",
    "plt.suptitle('Average Loan Term')\n",
    "plt.show()"
   ]
  },
  {
   "cell_type": "markdown",
   "metadata": {},
   "source": [
    "<h2>Previous Credit History vs No Credit History"
   ]
  },
  {
   "cell_type": "code",
   "execution_count": 4110,
   "metadata": {
    "pycharm": {
     "name": "#%%\n"
    }
   },
   "outputs": [
    {
     "data": {
      "text/plain": "<Figure size 460.8x345.6 with 1 Axes>",
      "image/png": "[encoded data removed]"
     },
     "metadata": {
      "needs_background": "light"
     },
     "output_type": "display_data"
    }
   ],
   "source": [
    "###### Need Work ########\n",
    "plt.figure(figsize=(6.4,4.8))\n",
    "plt.hist(loan_df['Credit_History'], color='cornflowerblue' ,edgecolor='black')\n",
    "plt.ylabel('Applicants')\n",
    "plt.xlabel('Credit History')\n",
    "plt.suptitle('Credit History')\n",
    "plt.show()\n"
   ]
  },
  {
   "cell_type": "markdown",
   "metadata": {},
   "source": [
    "<h2>Property Area</h2>\n"
   ]
  },
  {
   "cell_type": "code",
   "execution_count": 4111,
   "metadata": {
    "pycharm": {
     "name": "#%%\n"
    }
   },
   "outputs": [
    {
     "data": {
      "text/plain": "<Figure size 460.8x345.6 with 1 Axes>",
      "image/png": "[encoded data removed]"
     },
     "metadata": {
      "needs_background": "light"
     },
     "output_type": "display_data"
    }
   ],
   "source": [
    "# Property Type\n",
    "names = ['Urban', 'Semiurban', 'Rural']\n",
    "values = [\n",
    "    loan_df['Property_Area'].value_counts()['Urban'],\n",
    "    loan_df['Property_Area'].value_counts()['Semiurban'],\n",
    "    loan_df['Property_Area'].value_counts()['Rural'],\n",
    "]\n",
    "\n",
    "plt.figure(figsize=(6.4,4.8))\n",
    "plt.bar(names, values, color=('cornflowerblue','mediumpurple','lightpink'))\n",
    "plt.ylabel('Applicants')\n",
    "plt.suptitle('Property Type')\n",
    "plt.show()"
   ]
  },
  {
   "cell_type": "markdown",
   "metadata": {},
   "source": [
    "<h2> Loan Status </h2>\n"
   ]
  },
  {
   "cell_type": "code",
   "execution_count": 4112,
   "metadata": {
    "pycharm": {
     "name": "#%%\n"
    }
   },
   "outputs": [
    {
     "data": {
      "text/plain": "<Figure size 460.8x345.6 with 1 Axes>",
      "image/png": "[encoded data removed]"
     },
     "metadata": {
      "needs_background": "light"
     },
     "output_type": "display_data"
    }
   ],
   "source": [
    "# Loan Status\n",
    "names = ['Approved', 'Declined']\n",
    "values = [\n",
    "    loan_df['Loan_Status'].value_counts()['Y'],\n",
    "    loan_df['Loan_Status'].value_counts()['N'],\n",
    "]\n",
    "\n",
    "plt.figure(figsize=(6.4,4.8))\n",
    "plt.bar(names, values, color=('green','tomato'))\n",
    "plt.ylabel('Applicants')\n",
    "plt.suptitle('Loan Status')\n",
    "plt.show()"
   ]
  },
  {
   "cell_type": "markdown",
   "metadata": {
    "pycharm": {
     "name": "#%% md\n"
    }
   },
   "source": [
    "# Feature Selection and Engineering"
   ]
  },
  {
   "cell_type": "markdown",
   "metadata": {
    "pycharm": {
     "name": "#%% md\n"
    }
   },
   "source": [
    "<h2> Binary Encoding </h2>"
   ]
  },
  {
   "cell_type": "code",
   "execution_count": 4113,
   "outputs": [],
   "source": [
    "# Convert Gender Values into Binary\n",
    "loan_df.replace(to_replace='Male', value=1, inplace=True)\n",
    "loan_df.replace(to_replace='Female', value=0, inplace=True)"
   ],
   "metadata": {
    "collapsed": false,
    "pycharm": {
     "name": "#%%\n"
    }
   }
  },
  {
   "cell_type": "code",
   "execution_count": 4114,
   "metadata": {
    "pycharm": {
     "name": "#%%\n"
    }
   },
   "outputs": [],
   "source": [
    "# Convert Education Values into Binary\n",
    "loan_df.replace(to_replace='Graduate', value=1, inplace=True)\n",
    "loan_df.replace(to_replace='Not Graduate', value=0, inplace=True)"
   ]
  },
  {
   "cell_type": "code",
   "execution_count": 4115,
   "metadata": {
    "pycharm": {
     "name": "#%%\n"
    }
   },
   "outputs": [],
   "source": [
    "# Convert Dependents Values into Binary\n",
    "loan_df['Dependents'].replace(to_replace='0', value=0, inplace=True)\n",
    "loan_df['Dependents'].replace(to_replace='1', value=1, inplace=True)\n",
    "loan_df['Dependents'].replace(to_replace='2', value=1, inplace=True)\n",
    "loan_df['Dependents'].replace(to_replace='3+', value=1, inplace=True)"
   ]
  },
  {
   "cell_type": "code",
   "execution_count": 4116,
   "metadata": {
    "pycharm": {
     "name": "#%%\n"
    }
   },
   "outputs": [],
   "source": [
    "# Convert Yes/No Values to Binary\n",
    "loan_df.replace(to_replace='Yes', value=1, inplace=True)\n",
    "loan_df.replace(to_replace='No', value=0, inplace=True)\n",
    "# Convert Y/N Values to Binary\n",
    "loan_df.replace(to_replace='Y', value=1, inplace=True)\n",
    "loan_df.replace(to_replace='N', value=0, inplace=True)"
   ]
  },
  {
   "cell_type": "markdown",
   "metadata": {
    "pycharm": {
     "name": "#%% md\n"
    }
   },
   "source": [
    "<h2> Creation of New Variable </h2>"
   ]
  },
  {
   "cell_type": "code",
   "execution_count": 4117,
   "outputs": [],
   "source": [
    "# Creation of a new Category\n",
    "# Total Income = Applicant_Income + CoApplicant_Income\n",
    "loan_df['Total_Income'] = loan_df['ApplicantIncome'] + loan_df['CoapplicantIncome']"
   ],
   "metadata": {
    "collapsed": false,
    "pycharm": {
     "name": "#%%\n"
    }
   }
  },
  {
   "cell_type": "code",
   "execution_count": 4118,
   "metadata": {
    "pycharm": {
     "name": "#%%\n"
    }
   },
   "outputs": [
    {
     "data": {
      "text/plain": "<Figure size 460.8x345.6 with 1 Axes>",
      "image/png": "[encoded data removed]"
     },
     "metadata": {
      "needs_background": "light"
     },
     "output_type": "display_data"
    }
   ],
   "source": [
    "# Total Income Graph\n",
    "plt.figure(figsize=(6.4,4.8))\n",
    "plt.hist(loan_df['Total_Income'], color='cornflowerblue',edgecolor='black')\n",
    "plt.ylabel('Applicants')\n",
    "plt.xlabel('Income Amount')\n",
    "plt.suptitle('Average Total Income')\n",
    "plt.show()\n"
   ]
  },
  {
   "cell_type": "code",
   "execution_count": 4119,
   "metadata": {
    "pycharm": {
     "name": "#%%\n"
    }
   },
   "outputs": [],
   "source": [
    "# Log Transformation of the variables\n",
    "loan_df['ApplicantIncomeLog'] = np.log(loan_df['ApplicantIncome']+1)\n",
    "loan_df['CoapplicantIncomeLog'] = np.log(loan_df['CoapplicantIncome']+1)\n",
    "loan_df['LoanAmountLog'] = np.log(loan_df['LoanAmount']+1)\n",
    "loan_df['Loan_Amount_Term_Log'] = np.log(loan_df['Loan_Amount_Term']+1)\n",
    "loan_df['Total_Income_Log'] = np.log(loan_df['Total_Income']+1)"
   ]
  },
  {
   "cell_type": "markdown",
   "source": [
    "<h2>Log Transformation Plots </h2>"
   ],
   "metadata": {
    "collapsed": false,
    "pycharm": {
     "name": "#%% md\n"
    }
   }
  },
  {
   "cell_type": "code",
   "execution_count": 4120,
   "outputs": [
    {
     "name": "stderr",
     "output_type": "stream",
     "text": [
      "/usr/local/anaconda3/envs/ML_F__NR/lib/python3.9/site-packages/seaborn/distributions.py:2619: FutureWarning: `distplot` is a deprecated function and will be removed in a future version. Please adapt your code to use either `displot` (a figure-level function with similar flexibility) or `histplot` (an axes-level function for histograms).\n",
      "  warnings.warn(msg, FutureWarning)\n"
     ]
    },
    {
     "data": {
      "text/plain": "<AxesSubplot:xlabel='ApplicantIncome', ylabel='Density'>"
     },
     "execution_count": 4120,
     "metadata": {},
     "output_type": "execute_result"
    },
    {
     "data": {
      "text/plain": "<Figure size 432x288 with 1 Axes>",
      "image/png": "[encoded data removed]"
     },
     "metadata": {
      "needs_background": "light"
     },
     "output_type": "display_data"
    }
   ],
   "source": [
    "# Applicant Income Plot\n",
    "sb.distplot(loan_df[\"ApplicantIncome\"], color='black')"
   ],
   "metadata": {
    "collapsed": false,
    "pycharm": {
     "name": "#%%\n"
    }
   }
  },
  {
   "cell_type": "code",
   "execution_count": 4121,
   "outputs": [
    {
     "name": "stderr",
     "output_type": "stream",
     "text": [
      "/usr/local/anaconda3/envs/ML_F__NR/lib/python3.9/site-packages/seaborn/distributions.py:2619: FutureWarning: `distplot` is a deprecated function and will be removed in a future version. Please adapt your code to use either `displot` (a figure-level function with similar flexibility) or `histplot` (an axes-level function for histograms).\n",
      "  warnings.warn(msg, FutureWarning)\n"
     ]
    },
    {
     "data": {
      "text/plain": "<AxesSubplot:xlabel='CoapplicantIncome', ylabel='Density'>"
     },
     "execution_count": 4121,
     "metadata": {},
     "output_type": "execute_result"
    },
    {
     "data": {
      "text/plain": "<Figure size 432x288 with 1 Axes>",
      "image/png": "[encoded data removed]"
     },
     "metadata": {
      "needs_background": "light"
     },
     "output_type": "display_data"
    }
   ],
   "source": [
    "# Coapplicant Income Plot\n",
    "sb.distplot(loan_df[\"CoapplicantIncome\"], color='black')"
   ],
   "metadata": {
    "collapsed": false,
    "pycharm": {
     "name": "#%%\n"
    }
   }
  },
  {
   "cell_type": "code",
   "execution_count": 4122,
   "outputs": [
    {
     "name": "stderr",
     "output_type": "stream",
     "text": [
      "/usr/local/anaconda3/envs/ML_F__NR/lib/python3.9/site-packages/seaborn/distributions.py:2619: FutureWarning: `distplot` is a deprecated function and will be removed in a future version. Please adapt your code to use either `displot` (a figure-level function with similar flexibility) or `histplot` (an axes-level function for histograms).\n",
      "  warnings.warn(msg, FutureWarning)\n"
     ]
    },
    {
     "data": {
      "text/plain": "<AxesSubplot:xlabel='Total_Income', ylabel='Density'>"
     },
     "execution_count": 4122,
     "metadata": {},
     "output_type": "execute_result"
    },
    {
     "data": {
      "text/plain": "<Figure size 432x288 with 1 Axes>",
      "image/png": "[encoded data removed]"
     },
     "metadata": {
      "needs_background": "light"
     },
     "output_type": "display_data"
    }
   ],
   "source": [
    "# Coapplicant Income Plot\n",
    "sb.distplot(loan_df[\"Total_Income\"], color='black')"
   ],
   "metadata": {
    "collapsed": false,
    "pycharm": {
     "name": "#%%\n"
    }
   }
  },
  {
   "cell_type": "code",
   "execution_count": 4123,
   "outputs": [
    {
     "name": "stderr",
     "output_type": "stream",
     "text": [
      "/usr/local/anaconda3/envs/ML_F__NR/lib/python3.9/site-packages/seaborn/distributions.py:2619: FutureWarning: `distplot` is a deprecated function and will be removed in a future version. Please adapt your code to use either `displot` (a figure-level function with similar flexibility) or `histplot` (an axes-level function for histograms).\n",
      "  warnings.warn(msg, FutureWarning)\n"
     ]
    },
    {
     "data": {
      "text/plain": "<AxesSubplot:xlabel='LoanAmount', ylabel='Density'>"
     },
     "execution_count": 4123,
     "metadata": {},
     "output_type": "execute_result"
    },
    {
     "data": {
      "text/plain": "<Figure size 432x288 with 1 Axes>",
      "image/png": "[encoded data removed]"
     },
     "metadata": {
      "needs_background": "light"
     },
     "output_type": "display_data"
    }
   ],
   "source": [
    "# Loan Amount Plot\n",
    "sb.distplot(loan_df[\"LoanAmount\"], color='black')"
   ],
   "metadata": {
    "collapsed": false,
    "pycharm": {
     "name": "#%%\n"
    }
   }
  },
  {
   "cell_type": "markdown",
   "source": [
    "<h2>Dropping Variables </h2>"
   ],
   "metadata": {
    "collapsed": false
   }
  },
  {
   "cell_type": "code",
   "execution_count": 4124,
   "metadata": {
    "pycharm": {
     "name": "#%%\n"
    }
   },
   "outputs": [],
   "source": [
    "# Drop Redundant Columns\n",
    "loan_df = loan_df.drop(columns=\n",
    "                       ['ApplicantIncome','CoapplicantIncome',\n",
    "                        'LoanAmount','Loan_Amount_Term',\n",
    "                        'Total_Income', 'Loan_ID','CoapplicantIncomeLog'])"
   ]
  },
  {
   "cell_type": "code",
   "execution_count": 4125,
   "metadata": {
    "pycharm": {
     "name": "#%%\n"
    }
   },
   "outputs": [
    {
     "data": {
      "text/plain": "   Gender  Married  Dependents  Education  Self_Employed  Credit_History  \\\n0       1        0           0          1              0             1.0   \n1       1        1           1          1              0             1.0   \n2       1        1           0          1              1             1.0   \n3       1        1           0          0              0             1.0   \n4       1        0           0          1              0             1.0   \n5       1        1           1          1              1             1.0   \n6       1        1           0          0              0             1.0   \n7       1        1           1          1              0             0.0   \n8       1        1           1          1              0             1.0   \n9       1        1           1          1              0             1.0   \n\n  Property_Area  Loan_Status  ApplicantIncomeLog  LoanAmountLog  \\\n0         Urban            1            8.674197       4.993232   \n1         Rural            0            8.430327       4.859812   \n2         Urban            1            8.006701       4.204693   \n3         Urban            1            7.857094       4.795791   \n4         Urban            1            8.699681       4.955827   \n5         Urban            1            8.597482       5.590987   \n6         Urban            1            7.755339       4.564348   \n7     Semiurban            0            8.018625       5.068904   \n8         Urban            1            8.295798       5.129899   \n9     Semiurban            0            9.460476       5.857933   \n\n   Loan_Amount_Term_Log  Total_Income_Log  \n0              5.888878          8.674197  \n1              5.888878          8.714732  \n2              5.888878          8.006701  \n3              5.888878          8.505525  \n4              5.888878          8.699681  \n5              5.888878          9.170976  \n6              5.888878          8.255828  \n7              5.888878          8.619930  \n8              5.888878          8.618485  \n9              5.888878         10.077861  ",
      "text/html": "<div>\n<style scoped>\n    .dataframe tbody tr th:only-of-type {\n        vertical-align: middle;\n    }\n\n    .dataframe tbody tr th {\n        vertical-align: top;\n    }\n\n    .dataframe thead th {\n        text-align: right;\n    }\n</style>\n<table border=\"1\" class=\"dataframe\">\n  <thead>\n    <tr style=\"text-align: right;\">\n      <th></th>\n      <th>Gender</th>\n      <th>Married</th>\n      <th>Dependents</th>\n      <th>Education</th>\n      <th>Self_Employed</th>\n      <th>Credit_History</th>\n      <th>Property_Area</th>\n      <th>Loan_Status</th>\n      <th>ApplicantIncomeLog</th>\n      <th>LoanAmountLog</th>\n      <th>Loan_Amount_Term_Log</th>\n      <th>Total_Income_Log</th>\n    </tr>\n  </thead>\n  <tbody>\n    <tr>\n      <th>0</th>\n      <td>1</td>\n      <td>0</td>\n      <td>0</td>\n      <td>1</td>\n      <td>0</td>\n      <td>1.0</td>\n      <td>Urban</td>\n      <td>1</td>\n      <td>8.674197</td>\n      <td>4.993232</td>\n      <td>5.888878</td>\n      <td>8.674197</td>\n    </tr>\n    <tr>\n      <th>1</th>\n      <td>1</td>\n      <td>1</td>\n      <td>1</td>\n      <td>1</td>\n      <td>0</td>\n      <td>1.0</td>\n      <td>Rural</td>\n      <td>0</td>\n      <td>8.430327</td>\n      <td>4.859812</td>\n      <td>5.888878</td>\n      <td>8.714732</td>\n    </tr>\n    <tr>\n      <th>2</th>\n      <td>1</td>\n      <td>1</td>\n      <td>0</td>\n      <td>1</td>\n      <td>1</td>\n      <td>1.0</td>\n      <td>Urban</td>\n      <td>1</td>\n      <td>8.006701</td>\n      <td>4.204693</td>\n      <td>5.888878</td>\n      <td>8.006701</td>\n    </tr>\n    <tr>\n      <th>3</th>\n      <td>1</td>\n      <td>1</td>\n      <td>0</td>\n      <td>0</td>\n      <td>0</td>\n      <td>1.0</td>\n      <td>Urban</td>\n      <td>1</td>\n      <td>7.857094</td>\n      <td>4.795791</td>\n      <td>5.888878</td>\n      <td>8.505525</td>\n    </tr>\n    <tr>\n      <th>4</th>\n      <td>1</td>\n      <td>0</td>\n      <td>0</td>\n      <td>1</td>\n      <td>0</td>\n      <td>1.0</td>\n      <td>Urban</td>\n      <td>1</td>\n      <td>8.699681</td>\n      <td>4.955827</td>\n      <td>5.888878</td>\n      <td>8.699681</td>\n    </tr>\n    <tr>\n      <th>5</th>\n      <td>1</td>\n      <td>1</td>\n      <td>1</td>\n      <td>1</td>\n      <td>1</td>\n      <td>1.0</td>\n      <td>Urban</td>\n      <td>1</td>\n      <td>8.597482</td>\n      <td>5.590987</td>\n      <td>5.888878</td>\n      <td>9.170976</td>\n    </tr>\n    <tr>\n      <th>6</th>\n      <td>1</td>\n      <td>1</td>\n      <td>0</td>\n      <td>0</td>\n      <td>0</td>\n      <td>1.0</td>\n      <td>Urban</td>\n      <td>1</td>\n      <td>7.755339</td>\n      <td>4.564348</td>\n      <td>5.888878</td>\n      <td>8.255828</td>\n    </tr>\n    <tr>\n      <th>7</th>\n      <td>1</td>\n      <td>1</td>\n      <td>1</td>\n      <td>1</td>\n      <td>0</td>\n      <td>0.0</td>\n      <td>Semiurban</td>\n      <td>0</td>\n      <td>8.018625</td>\n      <td>5.068904</td>\n      <td>5.888878</td>\n      <td>8.619930</td>\n    </tr>\n    <tr>\n      <th>8</th>\n      <td>1</td>\n      <td>1</td>\n      <td>1</td>\n      <td>1</td>\n      <td>0</td>\n      <td>1.0</td>\n      <td>Urban</td>\n      <td>1</td>\n      <td>8.295798</td>\n      <td>5.129899</td>\n      <td>5.888878</td>\n      <td>8.618485</td>\n    </tr>\n    <tr>\n      <th>9</th>\n      <td>1</td>\n      <td>1</td>\n      <td>1</td>\n      <td>1</td>\n      <td>0</td>\n      <td>1.0</td>\n      <td>Semiurban</td>\n      <td>0</td>\n      <td>9.460476</td>\n      <td>5.857933</td>\n      <td>5.888878</td>\n      <td>10.077861</td>\n    </tr>\n  </tbody>\n</table>\n</div>"
     },
     "execution_count": 4125,
     "metadata": {},
     "output_type": "execute_result"
    }
   ],
   "source": [
    "# Print the first 20 entries after\n",
    "loan_df.head(10)"
   ]
  },
  {
   "cell_type": "markdown",
   "metadata": {},
   "source": [
    "# Correlation Matrix"
   ]
  },
  {
   "cell_type": "markdown",
   "metadata": {},
   "source": [
    "<h2>Correlations in the Data </h2>\n"
   ]
  },
  {
   "cell_type": "code",
   "execution_count": 4126,
   "metadata": {
    "pycharm": {
     "name": "#%%\n"
    }
   },
   "outputs": [
    {
     "data": {
      "text/plain": "                        Gender   Married  Dependents  Education  \\\nGender                1.000000  0.339026    0.137237  -0.061497   \nMarried               0.339026  1.000000    0.355644  -0.017671   \nDependents            0.137237  0.355644    1.000000  -0.036563   \nEducation            -0.061497 -0.017671   -0.036563   1.000000   \nSelf_Employed        -0.027421  0.008491    0.088254   0.010383   \nCredit_History        0.025103  0.001212   -0.021128   0.077936   \nLoan_Status           0.025407  0.084281    0.003044   0.085884   \nApplicantIncomeLog    0.060373  0.016583    0.114693   0.181735   \nLoanAmountLog         0.107791  0.175951    0.147710   0.144147   \nLoan_Amount_Term_Log -0.054638 -0.069973   -0.090064   0.065201   \nTotal_Income_Log      0.126910  0.150391    0.102174   0.204861   \n\n                      Self_Employed  Credit_History  Loan_Status  \\\nGender                    -0.027421        0.025103     0.025407   \nMarried                    0.008491        0.001212     0.084281   \nDependents                 0.088254       -0.021128     0.003044   \nEducation                  0.010383        0.077936     0.085884   \nSelf_Employed              1.000000       -0.002260    -0.003700   \nCredit_History            -0.002260        1.000000     0.540483   \nLoan_Status               -0.003700        0.540483     1.000000   \nApplicantIncomeLog         0.189847        0.019183     0.010959   \nLoanAmountLog              0.109890       -0.024909    -0.042131   \nLoan_Amount_Term_Log      -0.026115       -0.007773    -0.007232   \nTotal_Income_Log           0.176709        0.019154     0.007232   \n\n                      ApplicantIncomeLog  LoanAmountLog  Loan_Amount_Term_Log  \\\nGender                          0.060373       0.107791             -0.054638   \nMarried                         0.016583       0.175951             -0.069973   \nDependents                      0.114693       0.147710             -0.090064   \nEducation                       0.181735       0.144147              0.065201   \nSelf_Employed                   0.189847       0.109890             -0.026115   \nCredit_History                  0.019183      -0.024909             -0.007773   \nLoan_Status                     0.010959      -0.042131             -0.007232   \nApplicantIncomeLog              1.000000       0.492560             -0.014723   \nLoanAmountLog                   0.492560       1.000000              0.084301   \nLoan_Amount_Term_Log           -0.014723       0.084301              1.000000   \nTotal_Income_Log                0.740402       0.658957             -0.029705   \n\n                      Total_Income_Log  \nGender                        0.126910  \nMarried                       0.150391  \nDependents                    0.102174  \nEducation                     0.204861  \nSelf_Employed                 0.176709  \nCredit_History                0.019154  \nLoan_Status                   0.007232  \nApplicantIncomeLog            0.740402  \nLoanAmountLog                 0.658957  \nLoan_Amount_Term_Log         -0.029705  \nTotal_Income_Log              1.000000  ",
      "text/html": "<div>\n<style scoped>\n    .dataframe tbody tr th:only-of-type {\n        vertical-align: middle;\n    }\n\n    .dataframe tbody tr th {\n        vertical-align: top;\n    }\n\n    .dataframe thead th {\n        text-align: right;\n    }\n</style>\n<table border=\"1\" class=\"dataframe\">\n  <thead>\n    <tr style=\"text-align: right;\">\n      <th></th>\n      <th>Gender</th>\n      <th>Married</th>\n      <th>Dependents</th>\n      <th>Education</th>\n      <th>Self_Employed</th>\n      <th>Credit_History</th>\n      <th>Loan_Status</th>\n      <th>ApplicantIncomeLog</th>\n      <th>LoanAmountLog</th>\n      <th>Loan_Amount_Term_Log</th>\n      <th>Total_Income_Log</th>\n    </tr>\n  </thead>\n  <tbody>\n    <tr>\n      <th>Gender</th>\n      <td>1.000000</td>\n      <td>0.339026</td>\n      <td>0.137237</td>\n      <td>-0.061497</td>\n      <td>-0.027421</td>\n      <td>0.025103</td>\n      <td>0.025407</td>\n      <td>0.060373</td>\n      <td>0.107791</td>\n      <td>-0.054638</td>\n      <td>0.126910</td>\n    </tr>\n    <tr>\n      <th>Married</th>\n      <td>0.339026</td>\n      <td>1.000000</td>\n      <td>0.355644</td>\n      <td>-0.017671</td>\n      <td>0.008491</td>\n      <td>0.001212</td>\n      <td>0.084281</td>\n      <td>0.016583</td>\n      <td>0.175951</td>\n      <td>-0.069973</td>\n      <td>0.150391</td>\n    </tr>\n    <tr>\n      <th>Dependents</th>\n      <td>0.137237</td>\n      <td>0.355644</td>\n      <td>1.000000</td>\n      <td>-0.036563</td>\n      <td>0.088254</td>\n      <td>-0.021128</td>\n      <td>0.003044</td>\n      <td>0.114693</td>\n      <td>0.147710</td>\n      <td>-0.090064</td>\n      <td>0.102174</td>\n    </tr>\n    <tr>\n      <th>Education</th>\n      <td>-0.061497</td>\n      <td>-0.017671</td>\n      <td>-0.036563</td>\n      <td>1.000000</td>\n      <td>0.010383</td>\n      <td>0.077936</td>\n      <td>0.085884</td>\n      <td>0.181735</td>\n      <td>0.144147</td>\n      <td>0.065201</td>\n      <td>0.204861</td>\n    </tr>\n    <tr>\n      <th>Self_Employed</th>\n      <td>-0.027421</td>\n      <td>0.008491</td>\n      <td>0.088254</td>\n      <td>0.010383</td>\n      <td>1.000000</td>\n      <td>-0.002260</td>\n      <td>-0.003700</td>\n      <td>0.189847</td>\n      <td>0.109890</td>\n      <td>-0.026115</td>\n      <td>0.176709</td>\n    </tr>\n    <tr>\n      <th>Credit_History</th>\n      <td>0.025103</td>\n      <td>0.001212</td>\n      <td>-0.021128</td>\n      <td>0.077936</td>\n      <td>-0.002260</td>\n      <td>1.000000</td>\n      <td>0.540483</td>\n      <td>0.019183</td>\n      <td>-0.024909</td>\n      <td>-0.007773</td>\n      <td>0.019154</td>\n    </tr>\n    <tr>\n      <th>Loan_Status</th>\n      <td>0.025407</td>\n      <td>0.084281</td>\n      <td>0.003044</td>\n      <td>0.085884</td>\n      <td>-0.003700</td>\n      <td>0.540483</td>\n      <td>1.000000</td>\n      <td>0.010959</td>\n      <td>-0.042131</td>\n      <td>-0.007232</td>\n      <td>0.007232</td>\n    </tr>\n    <tr>\n      <th>ApplicantIncomeLog</th>\n      <td>0.060373</td>\n      <td>0.016583</td>\n      <td>0.114693</td>\n      <td>0.181735</td>\n      <td>0.189847</td>\n      <td>0.019183</td>\n      <td>0.010959</td>\n      <td>1.000000</td>\n      <td>0.492560</td>\n      <td>-0.014723</td>\n      <td>0.740402</td>\n    </tr>\n    <tr>\n      <th>LoanAmountLog</th>\n      <td>0.107791</td>\n      <td>0.175951</td>\n      <td>0.147710</td>\n      <td>0.144147</td>\n      <td>0.109890</td>\n      <td>-0.024909</td>\n      <td>-0.042131</td>\n      <td>0.492560</td>\n      <td>1.000000</td>\n      <td>0.084301</td>\n      <td>0.658957</td>\n    </tr>\n    <tr>\n      <th>Loan_Amount_Term_Log</th>\n      <td>-0.054638</td>\n      <td>-0.069973</td>\n      <td>-0.090064</td>\n      <td>0.065201</td>\n      <td>-0.026115</td>\n      <td>-0.007773</td>\n      <td>-0.007232</td>\n      <td>-0.014723</td>\n      <td>0.084301</td>\n      <td>1.000000</td>\n      <td>-0.029705</td>\n    </tr>\n    <tr>\n      <th>Total_Income_Log</th>\n      <td>0.126910</td>\n      <td>0.150391</td>\n      <td>0.102174</td>\n      <td>0.204861</td>\n      <td>0.176709</td>\n      <td>0.019154</td>\n      <td>0.007232</td>\n      <td>0.740402</td>\n      <td>0.658957</td>\n      <td>-0.029705</td>\n      <td>1.000000</td>\n    </tr>\n  </tbody>\n</table>\n</div>"
     },
     "execution_count": 4126,
     "metadata": {},
     "output_type": "execute_result"
    }
   ],
   "source": [
    "# Print Coorelation\n",
    "loan_df.corr()\n"
   ]
  },
  {
   "cell_type": "markdown",
   "metadata": {},
   "source": [
    "<h2>Correlation Matrix</h2>\n"
   ]
  },
  {
   "cell_type": "code",
   "execution_count": 4127,
   "metadata": {
    "pycharm": {
     "name": "#%%\n"
    }
   },
   "outputs": [
    {
     "data": {
      "text/plain": "<pandas.io.formats.style.Styler at 0x7fe05475da00>",
      "text/html": "<style type=\"text/css\">\n#T_b712e_row0_col0, #T_b712e_row1_col1, #T_b712e_row2_col2, #T_b712e_row3_col3, #T_b712e_row4_col4, #T_b712e_row5_col5, #T_b712e_row6_col6, #T_b712e_row7_col7, #T_b712e_row8_col8, #T_b712e_row9_col9, #T_b712e_row10_col10 {\n  background-color: #f2f2f2;\n  color: #000000;\n}\n#T_b712e_row0_col1, #T_b712e_row1_col0, #T_b712e_row1_col2, #T_b712e_row2_col1 {\n  background-color: #decbe4;\n  color: #000000;\n}\n#T_b712e_row0_col2, #T_b712e_row0_col8, #T_b712e_row0_col10, #T_b712e_row1_col6, #T_b712e_row1_col8, #T_b712e_row1_col10, #T_b712e_row2_col0, #T_b712e_row2_col4, #T_b712e_row2_col7, #T_b712e_row2_col8, #T_b712e_row2_col10, #T_b712e_row3_col6, #T_b712e_row3_col7, #T_b712e_row3_col8, #T_b712e_row3_col9, #T_b712e_row4_col2, #T_b712e_row4_col7, #T_b712e_row4_col8, #T_b712e_row4_col10, #T_b712e_row5_col3, #T_b712e_row6_col1, #T_b712e_row6_col3, #T_b712e_row7_col0, #T_b712e_row7_col2, #T_b712e_row7_col4, #T_b712e_row8_col0, #T_b712e_row8_col2, #T_b712e_row8_col3, #T_b712e_row8_col4, #T_b712e_row8_col9, #T_b712e_row9_col3, #T_b712e_row9_col8, #T_b712e_row10_col0, #T_b712e_row10_col1, #T_b712e_row10_col2, #T_b712e_row10_col4 {\n  background-color: #b3cde3;\n  color: #000000;\n}\n#T_b712e_row0_col3, #T_b712e_row0_col4, #T_b712e_row0_col5, #T_b712e_row0_col6, #T_b712e_row0_col7, #T_b712e_row0_col9, #T_b712e_row1_col3, #T_b712e_row1_col4, #T_b712e_row1_col5, #T_b712e_row1_col7, #T_b712e_row1_col9, #T_b712e_row2_col3, #T_b712e_row2_col5, #T_b712e_row2_col6, #T_b712e_row2_col9, #T_b712e_row3_col0, #T_b712e_row3_col1, #T_b712e_row3_col2, #T_b712e_row3_col4, #T_b712e_row3_col5, #T_b712e_row4_col0, #T_b712e_row4_col1, #T_b712e_row4_col3, #T_b712e_row4_col5, #T_b712e_row4_col6, #T_b712e_row4_col9, #T_b712e_row5_col0, #T_b712e_row5_col1, #T_b712e_row5_col2, #T_b712e_row5_col4, #T_b712e_row5_col7, #T_b712e_row5_col8, #T_b712e_row5_col9, #T_b712e_row5_col10, #T_b712e_row6_col0, #T_b712e_row6_col2, #T_b712e_row6_col4, #T_b712e_row6_col7, #T_b712e_row6_col8, #T_b712e_row6_col9, #T_b712e_row6_col10, #T_b712e_row7_col1, #T_b712e_row7_col5, #T_b712e_row7_col6, #T_b712e_row7_col9, #T_b712e_row8_col5, #T_b712e_row8_col6, #T_b712e_row9_col0, #T_b712e_row9_col1, #T_b712e_row9_col2, #T_b712e_row9_col4, #T_b712e_row9_col5, #T_b712e_row9_col6, #T_b712e_row9_col7, #T_b712e_row9_col10, #T_b712e_row10_col5, #T_b712e_row10_col6, #T_b712e_row10_col9 {\n  background-color: #fbb4ae;\n  color: #000000;\n}\n#T_b712e_row3_col10, #T_b712e_row7_col3, #T_b712e_row8_col1, #T_b712e_row10_col3 {\n  background-color: #ccebc5;\n  color: #000000;\n}\n#T_b712e_row5_col6 {\n  background-color: #ffffcc;\n  color: #000000;\n}\n#T_b712e_row6_col5, #T_b712e_row7_col8, #T_b712e_row8_col7 {\n  background-color: #fed9a6;\n  color: #000000;\n}\n#T_b712e_row7_col10, #T_b712e_row8_col10, #T_b712e_row10_col7, #T_b712e_row10_col8 {\n  background-color: #e5d8bd;\n  color: #000000;\n}\n</style>\n<table id=\"T_b712e_\">\n  <thead>\n    <tr>\n      <th class=\"blank level0\" >&nbsp;</th>\n      <th class=\"col_heading level0 col0\" >Gender</th>\n      <th class=\"col_heading level0 col1\" >Married</th>\n      <th class=\"col_heading level0 col2\" >Dependents</th>\n      <th class=\"col_heading level0 col3\" >Education</th>\n      <th class=\"col_heading level0 col4\" >Self_Employed</th>\n      <th class=\"col_heading level0 col5\" >Credit_History</th>\n      <th class=\"col_heading level0 col6\" >Loan_Status</th>\n      <th class=\"col_heading level0 col7\" >ApplicantIncomeLog</th>\n      <th class=\"col_heading level0 col8\" >LoanAmountLog</th>\n      <th class=\"col_heading level0 col9\" >Loan_Amount_Term_Log</th>\n      <th class=\"col_heading level0 col10\" >Total_Income_Log</th>\n    </tr>\n  </thead>\n  <tbody>\n    <tr>\n      <th id=\"T_b712e_level0_row0\" class=\"row_heading level0 row0\" >Gender</th>\n      <td id=\"T_b712e_row0_col0\" class=\"data row0 col0\" >1.000000</td>\n      <td id=\"T_b712e_row0_col1\" class=\"data row0 col1\" >0.339026</td>\n      <td id=\"T_b712e_row0_col2\" class=\"data row0 col2\" >0.137237</td>\n      <td id=\"T_b712e_row0_col3\" class=\"data row0 col3\" >-0.061497</td>\n      <td id=\"T_b712e_row0_col4\" class=\"data row0 col4\" >-0.027421</td>\n      <td id=\"T_b712e_row0_col5\" class=\"data row0 col5\" >0.025103</td>\n      <td id=\"T_b712e_row0_col6\" class=\"data row0 col6\" >0.025407</td>\n      <td id=\"T_b712e_row0_col7\" class=\"data row0 col7\" >0.060373</td>\n      <td id=\"T_b712e_row0_col8\" class=\"data row0 col8\" >0.107791</td>\n      <td id=\"T_b712e_row0_col9\" class=\"data row0 col9\" >-0.054638</td>\n      <td id=\"T_b712e_row0_col10\" class=\"data row0 col10\" >0.126910</td>\n    </tr>\n    <tr>\n      <th id=\"T_b712e_level0_row1\" class=\"row_heading level0 row1\" >Married</th>\n      <td id=\"T_b712e_row1_col0\" class=\"data row1 col0\" >0.339026</td>\n      <td id=\"T_b712e_row1_col1\" class=\"data row1 col1\" >1.000000</td>\n      <td id=\"T_b712e_row1_col2\" class=\"data row1 col2\" >0.355644</td>\n      <td id=\"T_b712e_row1_col3\" class=\"data row1 col3\" >-0.017671</td>\n      <td id=\"T_b712e_row1_col4\" class=\"data row1 col4\" >0.008491</td>\n      <td id=\"T_b712e_row1_col5\" class=\"data row1 col5\" >0.001212</td>\n      <td id=\"T_b712e_row1_col6\" class=\"data row1 col6\" >0.084281</td>\n      <td id=\"T_b712e_row1_col7\" class=\"data row1 col7\" >0.016583</td>\n      <td id=\"T_b712e_row1_col8\" class=\"data row1 col8\" >0.175951</td>\n      <td id=\"T_b712e_row1_col9\" class=\"data row1 col9\" >-0.069973</td>\n      <td id=\"T_b712e_row1_col10\" class=\"data row1 col10\" >0.150391</td>\n    </tr>\n    <tr>\n      <th id=\"T_b712e_level0_row2\" class=\"row_heading level0 row2\" >Dependents</th>\n      <td id=\"T_b712e_row2_col0\" class=\"data row2 col0\" >0.137237</td>\n      <td id=\"T_b712e_row2_col1\" class=\"data row2 col1\" >0.355644</td>\n      <td id=\"T_b712e_row2_col2\" class=\"data row2 col2\" >1.000000</td>\n      <td id=\"T_b712e_row2_col3\" class=\"data row2 col3\" >-0.036563</td>\n      <td id=\"T_b712e_row2_col4\" class=\"data row2 col4\" >0.088254</td>\n      <td id=\"T_b712e_row2_col5\" class=\"data row2 col5\" >-0.021128</td>\n      <td id=\"T_b712e_row2_col6\" class=\"data row2 col6\" >0.003044</td>\n      <td id=\"T_b712e_row2_col7\" class=\"data row2 col7\" >0.114693</td>\n      <td id=\"T_b712e_row2_col8\" class=\"data row2 col8\" >0.147710</td>\n      <td id=\"T_b712e_row2_col9\" class=\"data row2 col9\" >-0.090064</td>\n      <td id=\"T_b712e_row2_col10\" class=\"data row2 col10\" >0.102174</td>\n    </tr>\n    <tr>\n      <th id=\"T_b712e_level0_row3\" class=\"row_heading level0 row3\" >Education</th>\n      <td id=\"T_b712e_row3_col0\" class=\"data row3 col0\" >-0.061497</td>\n      <td id=\"T_b712e_row3_col1\" class=\"data row3 col1\" >-0.017671</td>\n      <td id=\"T_b712e_row3_col2\" class=\"data row3 col2\" >-0.036563</td>\n      <td id=\"T_b712e_row3_col3\" class=\"data row3 col3\" >1.000000</td>\n      <td id=\"T_b712e_row3_col4\" class=\"data row3 col4\" >0.010383</td>\n      <td id=\"T_b712e_row3_col5\" class=\"data row3 col5\" >0.077936</td>\n      <td id=\"T_b712e_row3_col6\" class=\"data row3 col6\" >0.085884</td>\n      <td id=\"T_b712e_row3_col7\" class=\"data row3 col7\" >0.181735</td>\n      <td id=\"T_b712e_row3_col8\" class=\"data row3 col8\" >0.144147</td>\n      <td id=\"T_b712e_row3_col9\" class=\"data row3 col9\" >0.065201</td>\n      <td id=\"T_b712e_row3_col10\" class=\"data row3 col10\" >0.204861</td>\n    </tr>\n    <tr>\n      <th id=\"T_b712e_level0_row4\" class=\"row_heading level0 row4\" >Self_Employed</th>\n      <td id=\"T_b712e_row4_col0\" class=\"data row4 col0\" >-0.027421</td>\n      <td id=\"T_b712e_row4_col1\" class=\"data row4 col1\" >0.008491</td>\n      <td id=\"T_b712e_row4_col2\" class=\"data row4 col2\" >0.088254</td>\n      <td id=\"T_b712e_row4_col3\" class=\"data row4 col3\" >0.010383</td>\n      <td id=\"T_b712e_row4_col4\" class=\"data row4 col4\" >1.000000</td>\n      <td id=\"T_b712e_row4_col5\" class=\"data row4 col5\" >-0.002260</td>\n      <td id=\"T_b712e_row4_col6\" class=\"data row4 col6\" >-0.003700</td>\n      <td id=\"T_b712e_row4_col7\" class=\"data row4 col7\" >0.189847</td>\n      <td id=\"T_b712e_row4_col8\" class=\"data row4 col8\" >0.109890</td>\n      <td id=\"T_b712e_row4_col9\" class=\"data row4 col9\" >-0.026115</td>\n      <td id=\"T_b712e_row4_col10\" class=\"data row4 col10\" >0.176709</td>\n    </tr>\n    <tr>\n      <th id=\"T_b712e_level0_row5\" class=\"row_heading level0 row5\" >Credit_History</th>\n      <td id=\"T_b712e_row5_col0\" class=\"data row5 col0\" >0.025103</td>\n      <td id=\"T_b712e_row5_col1\" class=\"data row5 col1\" >0.001212</td>\n      <td id=\"T_b712e_row5_col2\" class=\"data row5 col2\" >-0.021128</td>\n      <td id=\"T_b712e_row5_col3\" class=\"data row5 col3\" >0.077936</td>\n      <td id=\"T_b712e_row5_col4\" class=\"data row5 col4\" >-0.002260</td>\n      <td id=\"T_b712e_row5_col5\" class=\"data row5 col5\" >1.000000</td>\n      <td id=\"T_b712e_row5_col6\" class=\"data row5 col6\" >0.540483</td>\n      <td id=\"T_b712e_row5_col7\" class=\"data row5 col7\" >0.019183</td>\n      <td id=\"T_b712e_row5_col8\" class=\"data row5 col8\" >-0.024909</td>\n      <td id=\"T_b712e_row5_col9\" class=\"data row5 col9\" >-0.007773</td>\n      <td id=\"T_b712e_row5_col10\" class=\"data row5 col10\" >0.019154</td>\n    </tr>\n    <tr>\n      <th id=\"T_b712e_level0_row6\" class=\"row_heading level0 row6\" >Loan_Status</th>\n      <td id=\"T_b712e_row6_col0\" class=\"data row6 col0\" >0.025407</td>\n      <td id=\"T_b712e_row6_col1\" class=\"data row6 col1\" >0.084281</td>\n      <td id=\"T_b712e_row6_col2\" class=\"data row6 col2\" >0.003044</td>\n      <td id=\"T_b712e_row6_col3\" class=\"data row6 col3\" >0.085884</td>\n      <td id=\"T_b712e_row6_col4\" class=\"data row6 col4\" >-0.003700</td>\n      <td id=\"T_b712e_row6_col5\" class=\"data row6 col5\" >0.540483</td>\n      <td id=\"T_b712e_row6_col6\" class=\"data row6 col6\" >1.000000</td>\n      <td id=\"T_b712e_row6_col7\" class=\"data row6 col7\" >0.010959</td>\n      <td id=\"T_b712e_row6_col8\" class=\"data row6 col8\" >-0.042131</td>\n      <td id=\"T_b712e_row6_col9\" class=\"data row6 col9\" >-0.007232</td>\n      <td id=\"T_b712e_row6_col10\" class=\"data row6 col10\" >0.007232</td>\n    </tr>\n    <tr>\n      <th id=\"T_b712e_level0_row7\" class=\"row_heading level0 row7\" >ApplicantIncomeLog</th>\n      <td id=\"T_b712e_row7_col0\" class=\"data row7 col0\" >0.060373</td>\n      <td id=\"T_b712e_row7_col1\" class=\"data row7 col1\" >0.016583</td>\n      <td id=\"T_b712e_row7_col2\" class=\"data row7 col2\" >0.114693</td>\n      <td id=\"T_b712e_row7_col3\" class=\"data row7 col3\" >0.181735</td>\n      <td id=\"T_b712e_row7_col4\" class=\"data row7 col4\" >0.189847</td>\n      <td id=\"T_b712e_row7_col5\" class=\"data row7 col5\" >0.019183</td>\n      <td id=\"T_b712e_row7_col6\" class=\"data row7 col6\" >0.010959</td>\n      <td id=\"T_b712e_row7_col7\" class=\"data row7 col7\" >1.000000</td>\n      <td id=\"T_b712e_row7_col8\" class=\"data row7 col8\" >0.492560</td>\n      <td id=\"T_b712e_row7_col9\" class=\"data row7 col9\" >-0.014723</td>\n      <td id=\"T_b712e_row7_col10\" class=\"data row7 col10\" >0.740402</td>\n    </tr>\n    <tr>\n      <th id=\"T_b712e_level0_row8\" class=\"row_heading level0 row8\" >LoanAmountLog</th>\n      <td id=\"T_b712e_row8_col0\" class=\"data row8 col0\" >0.107791</td>\n      <td id=\"T_b712e_row8_col1\" class=\"data row8 col1\" >0.175951</td>\n      <td id=\"T_b712e_row8_col2\" class=\"data row8 col2\" >0.147710</td>\n      <td id=\"T_b712e_row8_col3\" class=\"data row8 col3\" >0.144147</td>\n      <td id=\"T_b712e_row8_col4\" class=\"data row8 col4\" >0.109890</td>\n      <td id=\"T_b712e_row8_col5\" class=\"data row8 col5\" >-0.024909</td>\n      <td id=\"T_b712e_row8_col6\" class=\"data row8 col6\" >-0.042131</td>\n      <td id=\"T_b712e_row8_col7\" class=\"data row8 col7\" >0.492560</td>\n      <td id=\"T_b712e_row8_col8\" class=\"data row8 col8\" >1.000000</td>\n      <td id=\"T_b712e_row8_col9\" class=\"data row8 col9\" >0.084301</td>\n      <td id=\"T_b712e_row8_col10\" class=\"data row8 col10\" >0.658957</td>\n    </tr>\n    <tr>\n      <th id=\"T_b712e_level0_row9\" class=\"row_heading level0 row9\" >Loan_Amount_Term_Log</th>\n      <td id=\"T_b712e_row9_col0\" class=\"data row9 col0\" >-0.054638</td>\n      <td id=\"T_b712e_row9_col1\" class=\"data row9 col1\" >-0.069973</td>\n      <td id=\"T_b712e_row9_col2\" class=\"data row9 col2\" >-0.090064</td>\n      <td id=\"T_b712e_row9_col3\" class=\"data row9 col3\" >0.065201</td>\n      <td id=\"T_b712e_row9_col4\" class=\"data row9 col4\" >-0.026115</td>\n      <td id=\"T_b712e_row9_col5\" class=\"data row9 col5\" >-0.007773</td>\n      <td id=\"T_b712e_row9_col6\" class=\"data row9 col6\" >-0.007232</td>\n      <td id=\"T_b712e_row9_col7\" class=\"data row9 col7\" >-0.014723</td>\n      <td id=\"T_b712e_row9_col8\" class=\"data row9 col8\" >0.084301</td>\n      <td id=\"T_b712e_row9_col9\" class=\"data row9 col9\" >1.000000</td>\n      <td id=\"T_b712e_row9_col10\" class=\"data row9 col10\" >-0.029705</td>\n    </tr>\n    <tr>\n      <th id=\"T_b712e_level0_row10\" class=\"row_heading level0 row10\" >Total_Income_Log</th>\n      <td id=\"T_b712e_row10_col0\" class=\"data row10 col0\" >0.126910</td>\n      <td id=\"T_b712e_row10_col1\" class=\"data row10 col1\" >0.150391</td>\n      <td id=\"T_b712e_row10_col2\" class=\"data row10 col2\" >0.102174</td>\n      <td id=\"T_b712e_row10_col3\" class=\"data row10 col3\" >0.204861</td>\n      <td id=\"T_b712e_row10_col4\" class=\"data row10 col4\" >0.176709</td>\n      <td id=\"T_b712e_row10_col5\" class=\"data row10 col5\" >0.019154</td>\n      <td id=\"T_b712e_row10_col6\" class=\"data row10 col6\" >0.007232</td>\n      <td id=\"T_b712e_row10_col7\" class=\"data row10 col7\" >0.740402</td>\n      <td id=\"T_b712e_row10_col8\" class=\"data row10 col8\" >0.658957</td>\n      <td id=\"T_b712e_row10_col9\" class=\"data row10 col9\" >-0.029705</td>\n      <td id=\"T_b712e_row10_col10\" class=\"data row10 col10\" >1.000000</td>\n    </tr>\n  </tbody>\n</table>\n"
     },
     "execution_count": 4127,
     "metadata": {},
     "output_type": "execute_result"
    }
   ],
   "source": [
    "# Correlation Matrix\n",
    "corr = loan_df.corr()\n",
    "corr.style.background_gradient(cmap='Pastel1')\n"
   ]
  },
  {
   "cell_type": "markdown",
   "metadata": {
    "pycharm": {
     "name": "#%% md\n"
    }
   },
   "source": [
    "# Classification Algorithms"
   ]
  },
  {
   "cell_type": "code",
   "execution_count": 4128,
   "metadata": {
    "pycharm": {
     "name": "#%%\n"
    }
   },
   "outputs": [
    {
     "data": {
      "text/plain": "   Gender  Married  Dependents  Education  Self_Employed  Credit_History  \\\n0       1        0           0          1              0             1.0   \n1       1        1           1          1              0             1.0   \n2       1        1           0          1              1             1.0   \n3       1        1           0          0              0             1.0   \n4       1        0           0          1              0             1.0   \n5       1        1           1          1              1             1.0   \n6       1        1           0          0              0             1.0   \n7       1        1           1          1              0             0.0   \n8       1        1           1          1              0             1.0   \n9       1        1           1          1              0             1.0   \n\n   Property_Area  Loan_Status  ApplicantIncomeLog  LoanAmountLog  \\\n0              2            1            8.674197       4.993232   \n1              0            0            8.430327       4.859812   \n2              2            1            8.006701       4.204693   \n3              2            1            7.857094       4.795791   \n4              2            1            8.699681       4.955827   \n5              2            1            8.597482       5.590987   \n6              2            1            7.755339       4.564348   \n7              1            0            8.018625       5.068904   \n8              2            1            8.295798       5.129899   \n9              1            0            9.460476       5.857933   \n\n   Loan_Amount_Term_Log  Total_Income_Log  \n0              5.888878          8.674197  \n1              5.888878          8.714732  \n2              5.888878          8.006701  \n3              5.888878          8.505525  \n4              5.888878          8.699681  \n5              5.888878          9.170976  \n6              5.888878          8.255828  \n7              5.888878          8.619930  \n8              5.888878          8.618485  \n9              5.888878         10.077861  ",
      "text/html": "<div>\n<style scoped>\n    .dataframe tbody tr th:only-of-type {\n        vertical-align: middle;\n    }\n\n    .dataframe tbody tr th {\n        vertical-align: top;\n    }\n\n    .dataframe thead th {\n        text-align: right;\n    }\n</style>\n<table border=\"1\" class=\"dataframe\">\n  <thead>\n    <tr style=\"text-align: right;\">\n      <th></th>\n      <th>Gender</th>\n      <th>Married</th>\n      <th>Dependents</th>\n      <th>Education</th>\n      <th>Self_Employed</th>\n      <th>Credit_History</th>\n      <th>Property_Area</th>\n      <th>Loan_Status</th>\n      <th>ApplicantIncomeLog</th>\n      <th>LoanAmountLog</th>\n      <th>Loan_Amount_Term_Log</th>\n      <th>Total_Income_Log</th>\n    </tr>\n  </thead>\n  <tbody>\n    <tr>\n      <th>0</th>\n      <td>1</td>\n      <td>0</td>\n      <td>0</td>\n      <td>1</td>\n      <td>0</td>\n      <td>1.0</td>\n      <td>2</td>\n      <td>1</td>\n      <td>8.674197</td>\n      <td>4.993232</td>\n      <td>5.888878</td>\n      <td>8.674197</td>\n    </tr>\n    <tr>\n      <th>1</th>\n      <td>1</td>\n      <td>1</td>\n      <td>1</td>\n      <td>1</td>\n      <td>0</td>\n      <td>1.0</td>\n      <td>0</td>\n      <td>0</td>\n      <td>8.430327</td>\n      <td>4.859812</td>\n      <td>5.888878</td>\n      <td>8.714732</td>\n    </tr>\n    <tr>\n      <th>2</th>\n      <td>1</td>\n      <td>1</td>\n      <td>0</td>\n      <td>1</td>\n      <td>1</td>\n      <td>1.0</td>\n      <td>2</td>\n      <td>1</td>\n      <td>8.006701</td>\n      <td>4.204693</td>\n      <td>5.888878</td>\n      <td>8.006701</td>\n    </tr>\n    <tr>\n      <th>3</th>\n      <td>1</td>\n      <td>1</td>\n      <td>0</td>\n      <td>0</td>\n      <td>0</td>\n      <td>1.0</td>\n      <td>2</td>\n      <td>1</td>\n      <td>7.857094</td>\n      <td>4.795791</td>\n      <td>5.888878</td>\n      <td>8.505525</td>\n    </tr>\n    <tr>\n      <th>4</th>\n      <td>1</td>\n      <td>0</td>\n      <td>0</td>\n      <td>1</td>\n      <td>0</td>\n      <td>1.0</td>\n      <td>2</td>\n      <td>1</td>\n      <td>8.699681</td>\n      <td>4.955827</td>\n      <td>5.888878</td>\n      <td>8.699681</td>\n    </tr>\n    <tr>\n      <th>5</th>\n      <td>1</td>\n      <td>1</td>\n      <td>1</td>\n      <td>1</td>\n      <td>1</td>\n      <td>1.0</td>\n      <td>2</td>\n      <td>1</td>\n      <td>8.597482</td>\n      <td>5.590987</td>\n      <td>5.888878</td>\n      <td>9.170976</td>\n    </tr>\n    <tr>\n      <th>6</th>\n      <td>1</td>\n      <td>1</td>\n      <td>0</td>\n      <td>0</td>\n      <td>0</td>\n      <td>1.0</td>\n      <td>2</td>\n      <td>1</td>\n      <td>7.755339</td>\n      <td>4.564348</td>\n      <td>5.888878</td>\n      <td>8.255828</td>\n    </tr>\n    <tr>\n      <th>7</th>\n      <td>1</td>\n      <td>1</td>\n      <td>1</td>\n      <td>1</td>\n      <td>0</td>\n      <td>0.0</td>\n      <td>1</td>\n      <td>0</td>\n      <td>8.018625</td>\n      <td>5.068904</td>\n      <td>5.888878</td>\n      <td>8.619930</td>\n    </tr>\n    <tr>\n      <th>8</th>\n      <td>1</td>\n      <td>1</td>\n      <td>1</td>\n      <td>1</td>\n      <td>0</td>\n      <td>1.0</td>\n      <td>2</td>\n      <td>1</td>\n      <td>8.295798</td>\n      <td>5.129899</td>\n      <td>5.888878</td>\n      <td>8.618485</td>\n    </tr>\n    <tr>\n      <th>9</th>\n      <td>1</td>\n      <td>1</td>\n      <td>1</td>\n      <td>1</td>\n      <td>0</td>\n      <td>1.0</td>\n      <td>1</td>\n      <td>0</td>\n      <td>9.460476</td>\n      <td>5.857933</td>\n      <td>5.888878</td>\n      <td>10.077861</td>\n    </tr>\n  </tbody>\n</table>\n</div>"
     },
     "execution_count": 4128,
     "metadata": {},
     "output_type": "execute_result"
    }
   ],
   "source": [
    "# Encode the labels\n",
    "columns = ['Gender',\"Married\",\"Education\",'Self_Employed',\"Property_Area\",\"Loan_Status\",\"Dependents\"]\n",
    "labelEncoded = LabelEncoder()\n",
    "for col in columns:\n",
    "    loan_df[col] = labelEncoded.fit_transform(loan_df[col])\n",
    "\n",
    "loan_df.head(10)"
   ]
  },
  {
   "cell_type": "code",
   "execution_count": 4129,
   "metadata": {
    "pycharm": {
     "name": "#%%\n"
    }
   },
   "outputs": [],
   "source": [
    "# specify input and output attributes\n",
    "X = loan_df.drop(columns=['Loan_Status'], axis=1)\n",
    "y = loan_df['Loan_Status']\n",
    "\n",
    "from sklearn.model_selection import train_test_split\n",
    "x_train, x_test, y_train, y_test = train_test_split(X, y, test_size=0.70, random_state=42)"
   ]
  },
  {
   "cell_type": "markdown",
   "metadata": {},
   "source": [
    "<h2>Training Models</h2>"
   ]
  },
  {
   "cell_type": "markdown",
   "metadata": {
    "pycharm": {
     "name": "#%% md\n"
    }
   },
   "source": [
    "<h3>Training Accuracy</h3>"
   ]
  },
  {
   "cell_type": "markdown",
   "metadata": {
    "pycharm": {
     "name": "#%% md\n"
    }
   },
   "source": [
    "Logistic Regression"
   ]
  },
  {
   "cell_type": "code",
   "execution_count": 4130,
   "metadata": {
    "pycharm": {
     "name": "#%%\n"
    }
   },
   "outputs": [
    {
     "name": "stdout",
     "output_type": "stream",
     "text": [
      "Accuracy in Training is 79.34782608695652\n",
      "Cross validation is 76.63043478260869\n"
     ]
    }
   ],
   "source": [
    "# RUn the model\n",
    "model = LogisticRegression(random_state=0).fit(x_train, y_train)\n",
    "print(\"Accuracy in Training is\", model.score(x_train, y_train)*100)\n",
    "score = cross_val_score(model, x_train, y_train, cv=4)\n",
    "print(\"Cross validation is\",np.mean(score)*100)"
   ]
  },
  {
   "cell_type": "markdown",
   "metadata": {
    "pycharm": {
     "name": "#%% md\n"
    }
   },
   "source": [
    "K-Nearest Neighbor"
   ]
  },
  {
   "cell_type": "code",
   "execution_count": 4131,
   "metadata": {
    "pycharm": {
     "name": "#%%\n"
    }
   },
   "outputs": [
    {
     "name": "stdout",
     "output_type": "stream",
     "text": [
      "Accuracy in Training is 82.06521739130434\n",
      "Cross validation is 70.1086956521739\n"
     ]
    }
   ],
   "source": [
    "# Run the model\n",
    "Kmodel = KNeighborsClassifier().fit(x_train, y_train)\n",
    "print(\"Accuracy in Training is\", Kmodel.score(x_train, y_train)*100)\n",
    "score = cross_val_score(Kmodel, x_train, y_train, cv=4)\n",
    "print(\"Cross validation is\",np.mean(score)*100)"
   ]
  },
  {
   "cell_type": "markdown",
   "metadata": {
    "pycharm": {
     "name": "#%% md\n"
    }
   },
   "source": [
    "Decision Tree Classifier"
   ]
  },
  {
   "cell_type": "code",
   "execution_count": 4132,
   "metadata": {
    "pycharm": {
     "name": "#%%\n"
    }
   },
   "outputs": [
    {
     "name": "stdout",
     "output_type": "stream",
     "text": [
      "Accuracy in Training is 100.0\n",
      "Cross validation is 72.82608695652173\n"
     ]
    }
   ],
   "source": [
    "# Run the model\n",
    "Dmodel = DecisionTreeClassifier().fit(x_train, y_train)\n",
    "print(\"Accuracy in Training is\", Dmodel.score(x_train, y_train)*100)\n",
    "score = cross_val_score(Dmodel, x_train, y_train, cv=4)\n",
    "print(\"Cross validation is\",np.mean(score)*100)"
   ]
  },
  {
   "cell_type": "markdown",
   "metadata": {
    "pycharm": {
     "name": "#%% md\n"
    }
   },
   "source": [
    "<h3>Testing Accuracy</h3>"
   ]
  },
  {
   "cell_type": "markdown",
   "metadata": {},
   "source": [
    "Logistic Regression"
   ]
  },
  {
   "cell_type": "code",
   "execution_count": 4133,
   "metadata": {
    "pycharm": {
     "name": "#%%\n"
    }
   },
   "outputs": [
    {
     "name": "stdout",
     "output_type": "stream",
     "text": [
      "Accuracy in Training is 82.09302325581396\n",
      "Cross validation is 81.62859120803047\n"
     ]
    }
   ],
   "source": [
    "# Run the model\n",
    "model = LogisticRegression(random_state=0).fit(x_test, y_test)\n",
    "print(\"Accuracy in Training is\", model.score(x_test, y_test)*100)\n",
    "score = cross_val_score(model, x_test, y_test, cv=4)\n",
    "print(\"Cross validation is\",np.mean(score)*100)"
   ]
  },
  {
   "cell_type": "markdown",
   "metadata": {},
   "source": [
    "K-Nearest Neighbor"
   ]
  },
  {
   "cell_type": "code",
   "execution_count": 4134,
   "metadata": {
    "pycharm": {
     "name": "#%%\n"
    }
   },
   "outputs": [
    {
     "name": "stdout",
     "output_type": "stream",
     "text": [
      "Accuracy in Training is 81.86046511627907\n",
      "Cross validation is 76.74800969193493\n"
     ]
    }
   ],
   "source": [
    "# Run the model\n",
    "Kmodel = KNeighborsClassifier().fit(x_test, y_test)\n",
    "print(\"Accuracy in Training is\", Kmodel.score(x_test, y_test)*100)\n",
    "score = cross_val_score(Kmodel, x_test, y_test, cv=4)\n",
    "print(\"Cross validation is\",np.mean(score)*100)"
   ]
  },
  {
   "cell_type": "markdown",
   "metadata": {},
   "source": [
    "Decision Tree Classifier"
   ]
  },
  {
   "cell_type": "code",
   "execution_count": 4135,
   "metadata": {
    "pycharm": {
     "name": "#%%\n"
    }
   },
   "outputs": [
    {
     "name": "stdout",
     "output_type": "stream",
     "text": [
      "Accuracy in Training is 100.0\n",
      "Cross validation is 69.99394254067151\n"
     ]
    }
   ],
   "source": [
    "# Run the model\n",
    "Dmodel = DecisionTreeClassifier().fit(x_test, y_test)\n",
    "print(\"Accuracy in Training is\", Dmodel.score(x_test, y_test)*100)\n",
    "score = cross_val_score(Dmodel, x_test, y_test, cv=4)\n",
    "print(\"Cross validation is\",np.mean(score)*100)\n"
   ]
  }
 ],
 "metadata": {
  "kernelspec": {
   "display_name": "Python 3 (ipykernel)",
   "language": "python",
   "name": "python3"
  },
  "language_info": {
   "codemirror_mode": {
    "name": "ipython",
    "version": 3
   },
   "file_extension": ".py",
   "mimetype": "text/x-python",
   "name": "python",
   "nbconvert_exporter": "python",
   "pygments_lexer": "ipython3",
   "version": "3.9.7"
  }
 },
 "nbformat": 4,
 "nbformat_minor": 1
}