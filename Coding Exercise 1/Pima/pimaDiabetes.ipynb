{
 "cells": [
  {
   "cell_type": "code",
   "execution_count": 125,
   "metadata": {
    "collapsed": true
   },
   "outputs": [],
   "source": [
    "import pandas as pd\n",
    "import numpy as np\n",
    "from numpy import nan\n",
    "\n",
    "# Import csv\n",
    "diabetes_df = pd.read_csv('diabetes.csv')"
   ]
  },
  {
   "cell_type": "code",
   "execution_count": 126,
   "outputs": [
    {
     "name": "stdout",
     "output_type": "stream",
     "text": [
      "Database shape: \n",
      "(768, 9)\n"
     ]
    }
   ],
   "source": [
    "# 1.a\n",
    "# Dataset shape\n",
    "print('Database shape: ')\n",
    "print(diabetes_df.shape)"
   ],
   "metadata": {
    "collapsed": false,
    "pycharm": {
     "name": "#%%\n"
    }
   }
  },
  {
   "cell_type": "code",
   "execution_count": 127,
   "outputs": [
    {
     "name": "stdout",
     "output_type": "stream",
     "text": [
      "Database axes: \n",
      "[RangeIndex(start=0, stop=768, step=1), Index(['Pregnancies', 'Glucose', 'BloodPressure', 'SkinThickness', 'Insulin',\n",
      "       'BMI', 'DiabetesPedigreeFunction', 'Age', 'Outcome'],\n",
      "      dtype='object')]\n"
     ]
    }
   ],
   "source": [
    "# Dataset axes\n",
    "print('Database axes: ')\n",
    "print(diabetes_df.axes)"
   ],
   "metadata": {
    "collapsed": false,
    "pycharm": {
     "name": "#%%\n"
    }
   }
  },
  {
   "cell_type": "code",
   "execution_count": 128,
   "outputs": [
    {
     "name": "stdout",
     "output_type": "stream",
     "text": [
      "Database dtypes: \n",
      "Pregnancies                   int64\n",
      "Glucose                       int64\n",
      "BloodPressure                 int64\n",
      "SkinThickness                 int64\n",
      "Insulin                       int64\n",
      "BMI                         float64\n",
      "DiabetesPedigreeFunction    float64\n",
      "Age                           int64\n",
      "Outcome                       int64\n",
      "dtype: object\n"
     ]
    }
   ],
   "source": [
    "# Dataset dtypes\n",
    "print('Database dtypes: ')\n",
    "print(diabetes_df.dtypes)"
   ],
   "metadata": {
    "collapsed": false,
    "pycharm": {
     "name": "#%%\n"
    }
   }
  },
  {
   "cell_type": "code",
   "execution_count": 129,
   "outputs": [
    {
     "name": "stdout",
     "output_type": "stream",
     "text": [
      "   Pregnancies  Glucose  BloodPressure  SkinThickness  Insulin   BMI  \\\n",
      "0            6      148             72             35        0  33.6   \n",
      "1            1       85             66             29        0  26.6   \n",
      "2            8      183             64              0        0  23.3   \n",
      "3            1       89             66             23       94  28.1   \n",
      "4            0      137             40             35      168  43.1   \n",
      "5            5      116             74              0        0  25.6   \n",
      "6            3       78             50             32       88  31.0   \n",
      "7           10      115              0              0        0  35.3   \n",
      "8            2      197             70             45      543  30.5   \n",
      "9            8      125             96              0        0   0.0   \n",
      "\n",
      "   DiabetesPedigreeFunction  Age  Outcome  \n",
      "0                     0.627   50        1  \n",
      "1                     0.351   31        0  \n",
      "2                     0.672   32        1  \n",
      "3                     0.167   21        0  \n",
      "4                     2.288   33        1  \n",
      "5                     0.201   30        0  \n",
      "6                     0.248   26        1  \n",
      "7                     0.134   29        0  \n",
      "8                     0.158   53        1  \n",
      "9                     0.232   54        1  \n"
     ]
    }
   ],
   "source": [
    "# 1.b\n",
    "# Print the first ten rows of the dataset\n",
    "print(diabetes_df.head(10))"
   ],
   "metadata": {
    "collapsed": false,
    "pycharm": {
     "name": "#%%\n"
    }
   }
  },
  {
   "cell_type": "markdown",
   "source": [
    "** 1.c Based on your knowledge of the dataset and its stated usage, do you think we are dealing with an unsupervised learning problem or a supervised learning problem?*\n",
    "The dataset is supervised. Each column is labeled and the dataset implies a certain outcome(And the outcome is provided) using the values provided."
   ],
   "metadata": {
    "collapsed": false,
    "pycharm": {
     "name": "#%% md\n"
    }
   }
  },
  {
   "cell_type": "markdown",
   "source": [
    "** 1.d How many independent variables (featues,attributes,predictors, etc.) does this dataset have?List down the names of these variables*\n",
    "* Pregnancies\n",
    "* Glucose\n",
    "* BloodPressure\n",
    "* SkinThickness\n",
    "* insulin\n",
    "* BMI\n",
    "* DiabetesPedigreeFunction\n",
    "* Age"
   ],
   "metadata": {
    "collapsed": false
   }
  },
  {
   "cell_type": "markdown",
   "source": [
    "* 1.e How many dependent variables in this dataset are categorical variables? List down the names of these variables*\n",
    "* Outcome"
   ],
   "metadata": {
    "collapsed": false
   }
  },
  {
   "cell_type": "markdown",
   "source": [
    "** 1.f What type of encoding do the categorical variables in the dataset follow?*\n",
    "The data follows label encoding"
   ],
   "metadata": {
    "collapsed": false
   }
  },
  {
   "cell_type": "code",
   "execution_count": 130,
   "outputs": [
    {
     "name": "stdout",
     "output_type": "stream",
     "text": [
      "Young adults sample size: \n",
      "574\n",
      "Middle age adults sample size: \n",
      "167\n",
      "Older age adults samples size: \n",
      "27\n"
     ]
    }
   ],
   "source": [
    "# 1.h\n",
    "# Dataset age grpups and their sample size\n",
    "print('Young adults sample size: ')\n",
    "young_adults = diabetes_df['Age'].between(21,40).sum()\n",
    "print(young_adults)\n",
    "\n",
    "print('Middle age adults sample size: ')\n",
    "middle_adults = diabetes_df['Age'].between(41,60).sum()\n",
    "print(middle_adults)\n",
    "\n",
    "print('Older age adults samples size: ')\n",
    "old_adults = diabetes_df['Age'].between(61, 200).sum()\n",
    "print(old_adults)"
   ],
   "metadata": {
    "collapsed": false,
    "pycharm": {
     "name": "#%%\n"
    }
   }
  },
  {
   "cell_type": "code",
   "execution_count": 131,
   "outputs": [
    {
     "name": "stdout",
     "output_type": "stream",
     "text": [
      "    Pregnancies  Glucose  BloodPressure  SkinThickness  Insulin   BMI  \\\n",
      "0             6    148.0           72.0           35.0      NaN  33.6   \n",
      "1             1     85.0           66.0           29.0      NaN  26.6   \n",
      "2             8    183.0           64.0            NaN      NaN  23.3   \n",
      "3             1     89.0           66.0           23.0     94.0  28.1   \n",
      "4             0    137.0           40.0           35.0    168.0  43.1   \n",
      "5             5    116.0           74.0            NaN      NaN  25.6   \n",
      "6             3     78.0           50.0           32.0     88.0  31.0   \n",
      "7            10    115.0            NaN            NaN      NaN  35.3   \n",
      "8             2    197.0           70.0           45.0    543.0  30.5   \n",
      "9             8    125.0           96.0            NaN      NaN   0.0   \n",
      "10            4    110.0           92.0            NaN      NaN  37.6   \n",
      "11           10    168.0           74.0            NaN      NaN  38.0   \n",
      "12           10    139.0           80.0            NaN      NaN  27.1   \n",
      "13            1    189.0           60.0           23.0    846.0  30.1   \n",
      "14            5    166.0           72.0           19.0    175.0  25.8   \n",
      "15            7    100.0            NaN            NaN      NaN  30.0   \n",
      "16            0    118.0           84.0           47.0    230.0  45.8   \n",
      "17            7    107.0           74.0            NaN      NaN  29.6   \n",
      "18            1    103.0           30.0           38.0     83.0  43.3   \n",
      "19            1    115.0           70.0           30.0     96.0  34.6   \n",
      "\n",
      "    DiabetesPedigreeFunction  Age  Outcome  \n",
      "0                      0.627   50        1  \n",
      "1                      0.351   31        0  \n",
      "2                      0.672   32        1  \n",
      "3                      0.167   21        0  \n",
      "4                      2.288   33        1  \n",
      "5                      0.201   30        0  \n",
      "6                      0.248   26        1  \n",
      "7                      0.134   29        0  \n",
      "8                      0.158   53        1  \n",
      "9                      0.232   54        1  \n",
      "10                     0.191   30        0  \n",
      "11                     0.537   34        1  \n",
      "12                     1.441   57        0  \n",
      "13                     0.398   59        1  \n",
      "14                     0.587   51        1  \n",
      "15                     0.484   32        1  \n",
      "16                     0.551   31        1  \n",
      "17                     0.254   31        1  \n",
      "18                     0.183   33        0  \n",
      "19                     0.529   32        1  \n"
     ]
    },
    {
     "name": "stderr",
     "output_type": "stream",
     "text": [
      "/var/folders/1q/p445z0x572v4c_wsyd8d1hn00000gn/T/ipykernel_28595/2930381047.py:18: SettingWithCopyWarning: \n",
      "A value is trying to be set on a copy of a slice from a DataFrame\n",
      "\n",
      "See the caveats in the documentation: https://pandas.pydata.org/pandas-docs/stable/user_guide/indexing.html#returning-a-view-versus-a-copy\n",
      "  diabetes_df.Insulin[i] = float(\"NaN\")\n",
      "/usr/local/anaconda3/envs/pimaDiabetes/lib/python3.9/site-packages/pandas/core/indexing.py:1732: SettingWithCopyWarning: \n",
      "A value is trying to be set on a copy of a slice from a DataFrame\n",
      "\n",
      "See the caveats in the documentation: https://pandas.pydata.org/pandas-docs/stable/user_guide/indexing.html#returning-a-view-versus-a-copy\n",
      "  self._setitem_single_block(indexer, value, name)\n",
      "/var/folders/1q/p445z0x572v4c_wsyd8d1hn00000gn/T/ipykernel_28595/2930381047.py:15: SettingWithCopyWarning: \n",
      "A value is trying to be set on a copy of a slice from a DataFrame\n",
      "\n",
      "See the caveats in the documentation: https://pandas.pydata.org/pandas-docs/stable/user_guide/indexing.html#returning-a-view-versus-a-copy\n",
      "  diabetes_df.SkinThickness[i] = float(\"NaN\")\n",
      "/var/folders/1q/p445z0x572v4c_wsyd8d1hn00000gn/T/ipykernel_28595/2930381047.py:12: SettingWithCopyWarning: \n",
      "A value is trying to be set on a copy of a slice from a DataFrame\n",
      "\n",
      "See the caveats in the documentation: https://pandas.pydata.org/pandas-docs/stable/user_guide/indexing.html#returning-a-view-versus-a-copy\n",
      "  diabetes_df.BloodPressure[i] = float(\"NaN\")\n",
      "/var/folders/1q/p445z0x572v4c_wsyd8d1hn00000gn/T/ipykernel_28595/2930381047.py:9: SettingWithCopyWarning: \n",
      "A value is trying to be set on a copy of a slice from a DataFrame\n",
      "\n",
      "See the caveats in the documentation: https://pandas.pydata.org/pandas-docs/stable/user_guide/indexing.html#returning-a-view-versus-a-copy\n",
      "  diabetes_df.Glucose[i] = float(\"NaN\")\n"
     ]
    }
   ],
   "source": [
    "# 2\n",
    "# # Replace the invalid values with NaN\n",
    "# for i in range(len(diabetes_df)):\n",
    "#     # Pregnant\n",
    "#     if diabetes_df.Pregnancies[i] < 0:\n",
    "#         diabetes_df.Pregnancies[i] = float(\"NaN\")\n",
    "#     # Glucose\n",
    "#     if diabetes_df.Glucose[i] <= 0:\n",
    "#         diabetes_df.Glucose[i] = float(\"NaN\")\n",
    "#     # Blood Pressure\n",
    "#     if diabetes_df.BloodPressure[i] <= 0:\n",
    "#         diabetes_df.BloodPressure[i] = float(\"NaN\")\n",
    "#     # Skin Thickness\n",
    "#     if diabetes_df.SkinThickness[i] <= 0:\n",
    "#         diabetes_df.SkinThickness[i] = float(\"NaN\")\n",
    "#     # Insulin\n",
    "#     if diabetes_df.Insulin[i] <= 0:\n",
    "#         diabetes_df.Insulin[i] = float(\"NaN\")\n",
    "#     # BMI\n",
    "#     if diabetes_df.BMI[i] < 0:\n",
    "#         diabetes_df.BMI[i] = float(\"NaN\")\n",
    "#     # Diabetes Pedigree Function\n",
    "#     if diabetes_df.DiabetesPedigreeFunction [i] <= 0:\n",
    "#         diabetes_df.DiabetesPedigreeFunction [i] = float(\"NaN\")\n",
    "#     # Age\n",
    "#     if diabetes_df.Age[i] <= 0:\n",
    "#         diabetes_df.Age[i] = float(\"NaN\")\n",
    "#\n",
    "# print(diabetes_df.head(20))"
   ],
   "metadata": {
    "collapsed": false,
    "pycharm": {
     "name": "#%%\n"
    }
   }
  },
  {
   "cell_type": "markdown",
   "source": [
    "I replaced the values that were 0 or less than 0 in all the columns except pregnancies and the outcome. The values of\n",
    "these specific columns cannot be equal to zero. Most likely the person who took these entries forgot to add the correct\n",
    "values to the dataframe or the info was not provided. (I don't know why it throws that error, I used the same method\n",
    "as the first notebook)"
   ],
   "metadata": {
    "collapsed": false
   }
  },
  {
   "cell_type": "code",
   "execution_count": 132,
   "outputs": [
    {
     "name": "stdout",
     "output_type": "stream",
     "text": [
      "    Pregnancies  Glucose  BloodPressure  SkinThickness  Insulin  BMI  \\\n",
      "0           1.0      1.0            1.0            1.0      NaN  1.0   \n",
      "1           NaN      NaN            NaN            NaN      NaN  NaN   \n",
      "2           NaN      NaN            NaN            NaN      NaN  NaN   \n",
      "3           NaN      NaN            NaN            NaN      NaN  NaN   \n",
      "4           NaN      NaN            NaN            NaN      NaN  NaN   \n",
      "5           NaN      NaN            NaN            NaN      NaN  NaN   \n",
      "6           NaN      NaN            NaN            NaN      NaN  NaN   \n",
      "7           NaN      NaN            NaN            NaN      NaN  NaN   \n",
      "8           NaN      NaN            NaN            NaN      NaN  NaN   \n",
      "9           NaN      NaN            NaN            NaN      NaN  NaN   \n",
      "10          NaN      NaN            NaN            NaN      NaN  NaN   \n",
      "11          NaN      NaN            NaN            NaN      NaN  NaN   \n",
      "12          NaN      NaN            NaN            NaN      NaN  NaN   \n",
      "13          1.0      1.0            1.0            1.0      1.0  1.0   \n",
      "14          NaN      NaN            NaN            NaN      NaN  NaN   \n",
      "15          NaN      NaN            NaN            NaN      NaN  NaN   \n",
      "16          NaN      NaN            NaN            NaN      NaN  NaN   \n",
      "17          NaN      NaN            NaN            NaN      NaN  NaN   \n",
      "18          NaN      NaN            NaN            NaN      NaN  NaN   \n",
      "19          NaN      NaN            NaN            NaN      NaN  NaN   \n",
      "\n",
      "    DiabetesPedigreeFunction  Age  Outcome  \n",
      "0                        1.0  1.0      1.0  \n",
      "1                        NaN  NaN      NaN  \n",
      "2                        NaN  NaN      NaN  \n",
      "3                        NaN  NaN      NaN  \n",
      "4                        NaN  NaN      NaN  \n",
      "5                        NaN  NaN      NaN  \n",
      "6                        NaN  NaN      NaN  \n",
      "7                        NaN  NaN      NaN  \n",
      "8                        NaN  NaN      NaN  \n",
      "9                        NaN  NaN      NaN  \n",
      "10                       NaN  NaN      NaN  \n",
      "11                       NaN  NaN      NaN  \n",
      "12                       NaN  NaN      NaN  \n",
      "13                       1.0  1.0      1.0  \n",
      "14                       NaN  NaN      NaN  \n",
      "15                       NaN  NaN      NaN  \n",
      "16                       NaN  NaN      NaN  \n",
      "17                       NaN  NaN      NaN  \n",
      "18                       NaN  NaN      NaN  \n",
      "19                       NaN  NaN      NaN  \n"
     ]
    }
   ],
   "source": [
    "# 3\n",
    "# diabetes_df = diabetes_df/diabetes_df.loc[diabetes_df.abs().idxmax()].astype(np.float64)\n",
    "# print(diabetes_df.head(20))"
   ],
   "metadata": {
    "collapsed": false,
    "pycharm": {
     "name": "#%%\n"
    }
   }
  },
  {
   "cell_type": "code",
   "execution_count": 133,
   "outputs": [
    {
     "name": "stdout",
     "output_type": "stream",
     "text": [
      "   Outcome_1.0\n",
      "0            1\n",
      "1            0\n",
      "2            0\n",
      "3            0\n",
      "4            0\n"
     ]
    }
   ],
   "source": [
    "# 4\n",
    "# One-Hot Encoding\n",
    "# encoded = pd.get_dummies(diabetes_df.Outcome, prefix='Outcome')\n",
    "# print(encoded.head())"
   ],
   "metadata": {
    "collapsed": false,
    "pycharm": {
     "name": "#%%\n"
    }
   }
  },
  {
   "cell_type": "code",
   "execution_count": 134,
   "outputs": [],
   "source": [
    "# # 5\n",
    "# I couldn't figure this one out\n",
    "x= diabetes_df/diabetes_df.loc[diabetes_df.abs().idxmax()].astype(np.float64)\n",
    "# output to csv file\n",
    "x.to_csv('diabetes_dataset_processed.csv', index=False)\n"
   ],
   "metadata": {
    "collapsed": false,
    "pycharm": {
     "name": "#%%\n"
    }
   }
  }
 ],
 "metadata": {
  "kernelspec": {
   "display_name": "Python 3",
   "language": "python",
   "name": "python3"
  },
  "language_info": {
   "codemirror_mode": {
    "name": "ipython",
    "version": 2
   },
   "file_extension": ".py",
   "mimetype": "text/x-python",
   "name": "python",
   "nbconvert_exporter": "python",
   "pygments_lexer": "ipython2",
   "version": "2.7.6"
  }
 },
 "nbformat": 4,
 "nbformat_minor": 0
}