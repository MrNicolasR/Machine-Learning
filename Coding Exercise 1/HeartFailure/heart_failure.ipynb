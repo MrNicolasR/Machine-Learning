{
 "cells": [
  {
   "cell_type": "code",
   "execution_count": 1,
   "metadata": {
    "collapsed": true
   },
   "outputs": [],
   "source": [
    "# Importing Packages\n",
    "import numpy as np\n",
    "from numpy import  nan\n",
    "import pandas as pd\n",
    "\n",
    "# Import Dataset\n",
    "heart_df = pd.read_csv('heart_failure_clinical_records_dataset.csv')"
   ]
  },
  {
   "cell_type": "code",
   "execution_count": 2,
   "outputs": [
    {
     "name": "stdout",
     "output_type": "stream",
     "text": [
      "(299, 13)\n"
     ]
    }
   ],
   "source": [
    "# 1.a\n",
    "# Print the shape of the dataset\n",
    "print(heart_df.shape)"
   ],
   "metadata": {
    "collapsed": false,
    "pycharm": {
     "name": "#%%\n"
    }
   }
  },
  {
   "cell_type": "code",
   "execution_count": 3,
   "outputs": [
    {
     "name": "stdout",
     "output_type": "stream",
     "text": [
      "[RangeIndex(start=0, stop=299, step=1), Index(['age', 'anaemia', 'creatinine_phosphokinase', 'diabetes',\n",
      "       'ejection_fraction', 'high_blood_pressure', 'platelets',\n",
      "       'serum_creatinine', 'serum_sodium', 'sex', 'smoking', 'time',\n",
      "       'DEATH_EVENT'],\n",
      "      dtype='object')]\n"
     ]
    }
   ],
   "source": [
    "# 1.b\n",
    "# Print the axes of the dataset\n",
    "print(heart_df.axes)"
   ],
   "metadata": {
    "collapsed": false,
    "pycharm": {
     "name": "#%%\n"
    }
   }
  },
  {
   "cell_type": "code",
   "execution_count": 4,
   "outputs": [
    {
     "name": "stdout",
     "output_type": "stream",
     "text": [
      "age                         float64\n",
      "anaemia                       int64\n",
      "creatinine_phosphokinase      int64\n",
      "diabetes                      int64\n",
      "ejection_fraction             int64\n",
      "high_blood_pressure           int64\n",
      "platelets                   float64\n",
      "serum_creatinine            float64\n",
      "serum_sodium                  int64\n",
      "sex                           int64\n",
      "smoking                       int64\n",
      "time                          int64\n",
      "DEATH_EVENT                   int64\n",
      "dtype: object\n"
     ]
    }
   ],
   "source": [
    "# 1.c\n",
    "# Print the Dtype of the dataset\n",
    "print(heart_df.dtypes)"
   ],
   "metadata": {
    "collapsed": false,
    "pycharm": {
     "name": "#%%\n"
    }
   }
  },
  {
   "cell_type": "code",
   "execution_count": 5,
   "outputs": [
    {
     "name": "stdout",
     "output_type": "stream",
     "text": [
      "    age  anaemia  creatinine_phosphokinase  diabetes  ejection_fraction  \\\n",
      "0  75.0        0                       582         0                 20   \n",
      "1  55.0        0                      7861         0                 38   \n",
      "2  65.0        0                       146         0                 20   \n",
      "3  50.0        1                       111         0                 20   \n",
      "4  65.0        1                       160         1                 20   \n",
      "5  90.0        1                        47         0                 40   \n",
      "6  75.0        1                       246         0                 15   \n",
      "7  60.0        1                       315         1                 60   \n",
      "8  65.0        0                       157         0                 65   \n",
      "9  80.0        1                       123         0                 35   \n",
      "\n",
      "   high_blood_pressure  platelets  serum_creatinine  serum_sodium  sex  \\\n",
      "0                    1  265000.00               1.9           130    1   \n",
      "1                    0  263358.03               1.1           136    1   \n",
      "2                    0  162000.00               1.3           129    1   \n",
      "3                    0  210000.00               1.9           137    1   \n",
      "4                    0  327000.00               2.7           116    0   \n",
      "5                    1  204000.00               2.1           132    1   \n",
      "6                    0  127000.00               1.2           137    1   \n",
      "7                    0  454000.00               1.1           131    1   \n",
      "8                    0  263358.03               1.5           138    0   \n",
      "9                    1  388000.00               9.4           133    1   \n",
      "\n",
      "   smoking  time  DEATH_EVENT  \n",
      "0        0     4            1  \n",
      "1        0     6            1  \n",
      "2        1     7            1  \n",
      "3        0     7            1  \n",
      "4        0     8            1  \n",
      "5        1     8            1  \n",
      "6        0    10            1  \n",
      "7        1    10            1  \n",
      "8        0    10            1  \n",
      "9        1    10            1  \n"
     ]
    }
   ],
   "source": [
    "# 1.e\n",
    "# Print the first ten rows of the dataset\n",
    "print(heart_df.head(10))\n"
   ],
   "metadata": {
    "collapsed": false,
    "pycharm": {
     "name": "#%%\n"
    }
   }
  },
  {
   "cell_type": "markdown",
   "source": [
    "** 1.c What is each row of heart_df dataframe termed within the machine learning parlance?*\n",
    "<br>\n",
    "A row in for machine learning represents a single observation along with the valus recorded during said obeservation.\n"
   ],
   "metadata": {
    "collapsed": false
   }
  },
  {
   "cell_type": "markdown",
   "source": [
    "** 1.d Based on your knowledge of the dataset and its stated usage, do you think we are dealing with an unsupervised learning problem or a supervised learning problem? Justify your answer*\n",
    "<br>\n",
    "We are dealing with a supervised learning problem. The dataset is clearly labeled that is to help categorize the values observed in each entry."
   ],
   "metadata": {
    "collapsed": false
   }
  },
  {
   "cell_type": "markdown",
   "source": [
    "** 1.e How many independent vairables (features,attrivbutes,predictors, etc.) does this dataset have?List down the names of these varaibles*\n",
    "<br>\n",
    "* age\n",
    "* creatinine_phosphokinase\n",
    "* ejection_fraction\n",
    "* platelets\n",
    "* serum_creatine\n",
    "* serum_sodium\n",
    "* anaemia\n",
    "* diabetes\n",
    "* high_blood_pressure\n",
    "* sex\n",
    "* smoking\n"
   ],
   "metadata": {
    "collapsed": false
   }
  },
  {
   "cell_type": "markdown",
   "source": [
    "** 1.f How many dependent variables(if any) does this dataset have? List down the names of these variables.*\n",
    "* DEATH_EVENT"
   ],
   "metadata": {
    "collapsed": false,
    "pycharm": {
     "name": "#%% md\n"
    }
   }
  },
  {
   "cell_type": "markdown",
   "source": [
    "** 1.g What type of encoding do the categorical variables in the dataset follow*"
   ],
   "metadata": {
    "collapsed": false,
    "pycharm": {
     "name": "#%% md\n"
    }
   }
  },
  {
   "cell_type": "code",
   "execution_count": 6,
   "outputs": [
    {
     "name": "stdout",
     "output_type": "stream",
     "text": [
      "Samples of Remaining (0) and Deceased (1): \n",
      "0    203\n",
      "1     96\n",
      "Name: DEATH_EVENT, dtype: int64\n"
     ]
    }
   ],
   "source": [
    "# 1.h\n",
    "deceased = heart_df.DEATH_EVENT.value_counts()\n",
    "print(\"Samples of Remaining (0) and Deceased (1): \")\n",
    "print(deceased)"
   ],
   "metadata": {
    "collapsed": false,
    "pycharm": {
     "name": "#%%\n"
    }
   }
  },
  {
   "cell_type": "code",
   "execution_count": 7,
   "outputs": [
    {
     "name": "stdout",
     "output_type": "stream",
     "text": [
      "Samples of Females (0) and Males (1): \n",
      "1    194\n",
      "0    105\n",
      "Name: sex, dtype: int64\n"
     ]
    }
   ],
   "source": [
    "# 1.i\n",
    "sex = heart_df.sex.value_counts()\n",
    "print(\"Samples of Females (0) and Males (1): \")\n",
    "print(sex)"
   ],
   "metadata": {
    "collapsed": false,
    "pycharm": {
     "name": "#%%\n"
    }
   }
  },
  {
   "cell_type": "code",
   "execution_count": 8,
   "outputs": [
    {
     "name": "stdout",
     "output_type": "stream",
     "text": [
      "Samples of Non-Smokers (0) and Smokers (1): \n",
      "0    203\n",
      "1     96\n",
      "Name: smoking, dtype: int64\n"
     ]
    }
   ],
   "source": [
    "# 1.j\n",
    "smoking = heart_df.smoking.value_counts()\n",
    "print(\"Samples of Non-Smokers (0) and Smokers (1): \")\n",
    "print(smoking)"
   ],
   "metadata": {
    "collapsed": false,
    "pycharm": {
     "name": "#%%\n"
    }
   }
  },
  {
   "cell_type": "markdown",
   "source": [
    "<b>2. Compute pairwise correlations between variables in the dataset using pandas.DataFrame.corr() function.<b>"
   ],
   "metadata": {
    "collapsed": false
   }
  },
  {
   "cell_type": "code",
   "execution_count": 9,
   "outputs": [
    {
     "data": {
      "text/plain": "                               age   anaemia  creatinine_phosphokinase  \\\nage                       1.000000  0.088006                 -0.081584   \nanaemia                   0.088006  1.000000                 -0.190741   \ncreatinine_phosphokinase -0.081584 -0.190741                  1.000000   \ndiabetes                 -0.101012 -0.012729                 -0.009639   \nejection_fraction         0.060098  0.031557                 -0.044080   \nhigh_blood_pressure       0.093289  0.038182                 -0.070590   \nplatelets                -0.052354 -0.043786                  0.024463   \nserum_creatinine          0.159187  0.052174                 -0.016408   \nserum_sodium             -0.045966  0.041882                  0.059550   \nsex                       0.065430 -0.094769                  0.079791   \nsmoking                   0.018668 -0.107290                  0.002421   \ntime                     -0.224068 -0.141414                 -0.009346   \nDEATH_EVENT               0.253729  0.066270                  0.062728   \n\n                          diabetes  ejection_fraction  high_blood_pressure  \\\nage                      -0.101012           0.060098             0.093289   \nanaemia                  -0.012729           0.031557             0.038182   \ncreatinine_phosphokinase -0.009639          -0.044080            -0.070590   \ndiabetes                  1.000000          -0.004850            -0.012732   \nejection_fraction        -0.004850           1.000000             0.024445   \nhigh_blood_pressure      -0.012732           0.024445             1.000000   \nplatelets                 0.092193           0.072177             0.049963   \nserum_creatinine         -0.046975          -0.011302            -0.004935   \nserum_sodium             -0.089551           0.175902             0.037109   \nsex                      -0.157730          -0.148386            -0.104615   \nsmoking                  -0.147173          -0.067315            -0.055711   \ntime                      0.033726           0.041729            -0.196439   \nDEATH_EVENT              -0.001943          -0.268603             0.079351   \n\n                          platelets  serum_creatinine  serum_sodium       sex  \\\nage                       -0.052354          0.159187     -0.045966  0.065430   \nanaemia                   -0.043786          0.052174      0.041882 -0.094769   \ncreatinine_phosphokinase   0.024463         -0.016408      0.059550  0.079791   \ndiabetes                   0.092193         -0.046975     -0.089551 -0.157730   \nejection_fraction          0.072177         -0.011302      0.175902 -0.148386   \nhigh_blood_pressure        0.049963         -0.004935      0.037109 -0.104615   \nplatelets                  1.000000         -0.041198      0.062125 -0.125120   \nserum_creatinine          -0.041198          1.000000     -0.189095  0.006970   \nserum_sodium               0.062125         -0.189095      1.000000 -0.027566   \nsex                       -0.125120          0.006970     -0.027566  1.000000   \nsmoking                    0.028234         -0.027414      0.004813  0.445892   \ntime                       0.010514         -0.149315      0.087640 -0.015608   \nDEATH_EVENT               -0.049139          0.294278     -0.195204 -0.004316   \n\n                           smoking      time  DEATH_EVENT  \nage                       0.018668 -0.224068     0.253729  \nanaemia                  -0.107290 -0.141414     0.066270  \ncreatinine_phosphokinase  0.002421 -0.009346     0.062728  \ndiabetes                 -0.147173  0.033726    -0.001943  \nejection_fraction        -0.067315  0.041729    -0.268603  \nhigh_blood_pressure      -0.055711 -0.196439     0.079351  \nplatelets                 0.028234  0.010514    -0.049139  \nserum_creatinine         -0.027414 -0.149315     0.294278  \nserum_sodium              0.004813  0.087640    -0.195204  \nsex                       0.445892 -0.015608    -0.004316  \nsmoking                   1.000000 -0.022839    -0.012623  \ntime                     -0.022839  1.000000    -0.526964  \nDEATH_EVENT              -0.012623 -0.526964     1.000000  ",
      "text/html": "<div>\n<style scoped>\n    .dataframe tbody tr th:only-of-type {\n        vertical-align: middle;\n    }\n\n    .dataframe tbody tr th {\n        vertical-align: top;\n    }\n\n    .dataframe thead th {\n        text-align: right;\n    }\n</style>\n<table border=\"1\" class=\"dataframe\">\n  <thead>\n    <tr style=\"text-align: right;\">\n      <th></th>\n      <th>age</th>\n      <th>anaemia</th>\n      <th>creatinine_phosphokinase</th>\n      <th>diabetes</th>\n      <th>ejection_fraction</th>\n      <th>high_blood_pressure</th>\n      <th>platelets</th>\n      <th>serum_creatinine</th>\n      <th>serum_sodium</th>\n      <th>sex</th>\n      <th>smoking</th>\n      <th>time</th>\n      <th>DEATH_EVENT</th>\n    </tr>\n  </thead>\n  <tbody>\n    <tr>\n      <th>age</th>\n      <td>1.000000</td>\n      <td>0.088006</td>\n      <td>-0.081584</td>\n      <td>-0.101012</td>\n      <td>0.060098</td>\n      <td>0.093289</td>\n      <td>-0.052354</td>\n      <td>0.159187</td>\n      <td>-0.045966</td>\n      <td>0.065430</td>\n      <td>0.018668</td>\n      <td>-0.224068</td>\n      <td>0.253729</td>\n    </tr>\n    <tr>\n      <th>anaemia</th>\n      <td>0.088006</td>\n      <td>1.000000</td>\n      <td>-0.190741</td>\n      <td>-0.012729</td>\n      <td>0.031557</td>\n      <td>0.038182</td>\n      <td>-0.043786</td>\n      <td>0.052174</td>\n      <td>0.041882</td>\n      <td>-0.094769</td>\n      <td>-0.107290</td>\n      <td>-0.141414</td>\n      <td>0.066270</td>\n    </tr>\n    <tr>\n      <th>creatinine_phosphokinase</th>\n      <td>-0.081584</td>\n      <td>-0.190741</td>\n      <td>1.000000</td>\n      <td>-0.009639</td>\n      <td>-0.044080</td>\n      <td>-0.070590</td>\n      <td>0.024463</td>\n      <td>-0.016408</td>\n      <td>0.059550</td>\n      <td>0.079791</td>\n      <td>0.002421</td>\n      <td>-0.009346</td>\n      <td>0.062728</td>\n    </tr>\n    <tr>\n      <th>diabetes</th>\n      <td>-0.101012</td>\n      <td>-0.012729</td>\n      <td>-0.009639</td>\n      <td>1.000000</td>\n      <td>-0.004850</td>\n      <td>-0.012732</td>\n      <td>0.092193</td>\n      <td>-0.046975</td>\n      <td>-0.089551</td>\n      <td>-0.157730</td>\n      <td>-0.147173</td>\n      <td>0.033726</td>\n      <td>-0.001943</td>\n    </tr>\n    <tr>\n      <th>ejection_fraction</th>\n      <td>0.060098</td>\n      <td>0.031557</td>\n      <td>-0.044080</td>\n      <td>-0.004850</td>\n      <td>1.000000</td>\n      <td>0.024445</td>\n      <td>0.072177</td>\n      <td>-0.011302</td>\n      <td>0.175902</td>\n      <td>-0.148386</td>\n      <td>-0.067315</td>\n      <td>0.041729</td>\n      <td>-0.268603</td>\n    </tr>\n    <tr>\n      <th>high_blood_pressure</th>\n      <td>0.093289</td>\n      <td>0.038182</td>\n      <td>-0.070590</td>\n      <td>-0.012732</td>\n      <td>0.024445</td>\n      <td>1.000000</td>\n      <td>0.049963</td>\n      <td>-0.004935</td>\n      <td>0.037109</td>\n      <td>-0.104615</td>\n      <td>-0.055711</td>\n      <td>-0.196439</td>\n      <td>0.079351</td>\n    </tr>\n    <tr>\n      <th>platelets</th>\n      <td>-0.052354</td>\n      <td>-0.043786</td>\n      <td>0.024463</td>\n      <td>0.092193</td>\n      <td>0.072177</td>\n      <td>0.049963</td>\n      <td>1.000000</td>\n      <td>-0.041198</td>\n      <td>0.062125</td>\n      <td>-0.125120</td>\n      <td>0.028234</td>\n      <td>0.010514</td>\n      <td>-0.049139</td>\n    </tr>\n    <tr>\n      <th>serum_creatinine</th>\n      <td>0.159187</td>\n      <td>0.052174</td>\n      <td>-0.016408</td>\n      <td>-0.046975</td>\n      <td>-0.011302</td>\n      <td>-0.004935</td>\n      <td>-0.041198</td>\n      <td>1.000000</td>\n      <td>-0.189095</td>\n      <td>0.006970</td>\n      <td>-0.027414</td>\n      <td>-0.149315</td>\n      <td>0.294278</td>\n    </tr>\n    <tr>\n      <th>serum_sodium</th>\n      <td>-0.045966</td>\n      <td>0.041882</td>\n      <td>0.059550</td>\n      <td>-0.089551</td>\n      <td>0.175902</td>\n      <td>0.037109</td>\n      <td>0.062125</td>\n      <td>-0.189095</td>\n      <td>1.000000</td>\n      <td>-0.027566</td>\n      <td>0.004813</td>\n      <td>0.087640</td>\n      <td>-0.195204</td>\n    </tr>\n    <tr>\n      <th>sex</th>\n      <td>0.065430</td>\n      <td>-0.094769</td>\n      <td>0.079791</td>\n      <td>-0.157730</td>\n      <td>-0.148386</td>\n      <td>-0.104615</td>\n      <td>-0.125120</td>\n      <td>0.006970</td>\n      <td>-0.027566</td>\n      <td>1.000000</td>\n      <td>0.445892</td>\n      <td>-0.015608</td>\n      <td>-0.004316</td>\n    </tr>\n    <tr>\n      <th>smoking</th>\n      <td>0.018668</td>\n      <td>-0.107290</td>\n      <td>0.002421</td>\n      <td>-0.147173</td>\n      <td>-0.067315</td>\n      <td>-0.055711</td>\n      <td>0.028234</td>\n      <td>-0.027414</td>\n      <td>0.004813</td>\n      <td>0.445892</td>\n      <td>1.000000</td>\n      <td>-0.022839</td>\n      <td>-0.012623</td>\n    </tr>\n    <tr>\n      <th>time</th>\n      <td>-0.224068</td>\n      <td>-0.141414</td>\n      <td>-0.009346</td>\n      <td>0.033726</td>\n      <td>0.041729</td>\n      <td>-0.196439</td>\n      <td>0.010514</td>\n      <td>-0.149315</td>\n      <td>0.087640</td>\n      <td>-0.015608</td>\n      <td>-0.022839</td>\n      <td>1.000000</td>\n      <td>-0.526964</td>\n    </tr>\n    <tr>\n      <th>DEATH_EVENT</th>\n      <td>0.253729</td>\n      <td>0.066270</td>\n      <td>0.062728</td>\n      <td>-0.001943</td>\n      <td>-0.268603</td>\n      <td>0.079351</td>\n      <td>-0.049139</td>\n      <td>0.294278</td>\n      <td>-0.195204</td>\n      <td>-0.004316</td>\n      <td>-0.012623</td>\n      <td>-0.526964</td>\n      <td>1.000000</td>\n    </tr>\n  </tbody>\n</table>\n</div>"
     },
     "execution_count": 9,
     "metadata": {},
     "output_type": "execute_result"
    }
   ],
   "source": [
    "heart_df.corr()"
   ],
   "metadata": {
    "collapsed": false,
    "pycharm": {
     "name": "#%%\n"
    }
   }
  },
  {
   "cell_type": "markdown",
   "source": [
    "** 2.a What two variables are the most positively correlated with the DEATH_EVENT variable?*\n",
    "* Age 0.253729\n",
    "* Serum_creatinine 0.294278"
   ],
   "metadata": {
    "collapsed": false
   }
  },
  {
   "cell_type": "markdown",
   "source": [
    "** 2.b What two variables are the most negatively correlated with the DEATH_EVENT variable?*\n",
    "* Time -0.526964\n",
    "* Ejection_fraction -0.268603"
   ],
   "metadata": {
    "collapsed": false
   }
  },
  {
   "cell_type": "markdown",
   "source": [
    "** 2.c Based on your knowledge of the dataset, why do you think it makes sense that the second-most positively correlated variables with the DEATH_EVENT variable should have been positively correlated?*\n",
    "\n",
    "The second-highest correlation in the dataset with the DEATH_EVENT is serum_creatinine. Serum_creatinine is an indicator of kidney failure. Kidney failure is a major precursor to heart failure."
   ],
   "metadata": {
    "collapsed": false
   }
  },
  {
   "cell_type": "markdown",
   "source": [
    "** 2.d Based on your knowledge of the dataset, why do you think it makes sense that the two most negatively correlated variables with the DEATH_EVENT variable should have been negatively correlated?*\n",
    "\n",
    "The Time correlation is unclear how it affects the outcome. For the other ejection_fraction, it can be low but not necessarily mean that there is an issue with heart failure. Which in turn does not mean there is heart failure present."
   ],
   "metadata": {
    "collapsed": false
   }
  },
  {
   "cell_type": "code",
   "execution_count": 10,
   "outputs": [],
   "source": [
    "# 3\n",
    "\n",
    "# Validate data by type and corresponding values\n",
    "# If there is an error with the value convert said value to NaN\n",
    "\n",
    "# Two types of values\n",
    "# 1 Binary (1 yes 0 no)\n",
    "#  - anaemia\n",
    "#  - diabetes\n",
    "#  - high blood pressure\n",
    "#  - sex (1 male 0 female)\n",
    "#  - smoking\n",
    "#  - Death Event\n",
    "\n",
    "# 2 Ints (0 -> inf)\n",
    "#  - ejection fraction\n",
    "#  - platelets\n",
    "#  - serum creatinine\n",
    "#  - serum sodium\n",
    "#  - time\n",
    "\n",
    "# Validate binary values ( values has to be either 0 or 1 if not convert to NaN)\n",
    "# for i in range(len(heart_df)):\n",
    "#     # Check anaemia\n",
    "#     if heart_df.anaemia[i] < 0 or heart_df.anaemia[i] > 1:\n",
    "#             heart_df.anaemia[i] = float=(\"NaN\")\n",
    "#     # Check diabetes\n",
    "#     if heart_df.diabetes[i] < 0 or heart_df.diabetes[i] > 1:\n",
    "#         heart_df.diabetes[i] = float=(\"NaN\")\n",
    "#     # Check high blood pressure\n",
    "#     if heart_df.high_blood_pressure[i] < 0 or heart_df.high_blood_pressure[i] > 1:\n",
    "#         heart_df.high_blood_pressure[i] = float=(\"NaN\")\n",
    "#     # sex\n",
    "#     if heart_df.sex[i] < 0 or heart_df.sex[i] > 1:\n",
    "#         heart_df.sex[i] = float=(\"NaN\")\n",
    "#     # Check smoking\n",
    "#     if heart_df.smoking[i] < 0 or heart_df.smoking[i] > 1:\n",
    "#         heart_df.smoking[i] = float=(\"NaN\")\n",
    "#     # Check Death Event\n",
    "#     if heart_df.DEATH_EVENT[i] < 0 or heart_df.DEATH_EVENT[i] > 1:\n",
    "#         heart_df.DEATH_EVENT[i] = float=(\"NaN\")\n",
    "#\n",
    "# # Any values in the dataset that are < 0 replace with NaN\n",
    "# for i in range(len(heart_df)):\n",
    "#     # Check age\n",
    "#     if heart_df.age[i] <= 0:\n",
    "#         heart_df.age[i] = float(\"NaN\")\n",
    "#     # Check creatinine phosphokinase\n",
    "#     if heart_df.creatinine_phosphokinase[i] <= 0:\n",
    "#         heart_df.creatinine_phosphokinase[i] = float(\"NaN\")\n",
    "#     # Check ejection fraction\n",
    "#     if heart_df.ejection_fraction[i] < 0 or heart_df.ejection_fraction[i] > 100:\n",
    "#         heart_df.ejection_fraction[i] = float(\"NaN\")\n",
    "#     # Check platelets\n",
    "#     if heart_df.platelets[i] <= 0:\n",
    "#         heart_df.platelets[i] = float(\"NaN\")\n",
    "#     # Check serum creatinine\n",
    "#     if heart_df.serum_creatinine[i] <= 0:\n",
    "#         heart_df.serum_creatinine[i] = float(\"NaN\")\n",
    "#     # Check serum sodium\n",
    "#     if heart_df.serum_sodium[i] <= 0:\n",
    "#         heart_df.serum_sodium[i] = float(\"NaN\")\n",
    "#     # Check time\n",
    "#     if heart_df.time[i] <= 0:\n",
    "#         heart_df.time[i] = float(\"NaN\")\n",
    "#\n",
    "#\n",
    "# # Write the dataframe with NaN into a new file\n",
    "# heart_df.to_csv('heart_failure_dataset_NaNs.csv', index=False)"
   ],
   "metadata": {
    "collapsed": false,
    "pycharm": {
     "name": "#%%\n"
    }
   }
  },
  {
   "cell_type": "markdown",
   "source": [
    "My thinking for the dataset validation is pretty simple. Using the website I used to download the along with the dtypes\n",
    "I was able to produce for the dataset, I have broken down which dtypes are supposed to be binary values or which ones\n",
    "are supposed to be natural numbers. For the binary if the value does not correspond to either a 0 or a 1 that value is\n",
    "not valid and can be replaced with NaN. For the other set, natural numbers are numbers that are positive from 0 to\n",
    "infinity. So the program checks to make sure there are no negative numbers. If the program finds a negative number,\n",
    "the value is replaced with a NaN"
   ],
   "metadata": {
    "collapsed": false
   }
  },
  {
   "cell_type": "code",
   "execution_count": 11,
   "outputs": [
    {
     "name": "stdout",
     "output_type": "stream",
     "text": [
      "    age  anaemia  creatinine_phosphokinase  diabetes  ejection_fraction  \\\n",
      "0   1.0      NaN                       1.0       NaN                1.0   \n",
      "0   1.0      NaN                       1.0       NaN                1.0   \n",
      "0   1.0      NaN                       1.0       NaN                1.0   \n",
      "1   1.0      NaN                       1.0       NaN                1.0   \n",
      "2   1.0      NaN                       1.0       NaN                1.0   \n",
      "3   1.0      1.0                       1.0       NaN                1.0   \n",
      "4   1.0      1.0                       1.0       1.0                1.0   \n",
      "5   NaN      NaN                       NaN       NaN                NaN   \n",
      "6   NaN      NaN                       NaN       NaN                NaN   \n",
      "7   NaN      NaN                       NaN       NaN                NaN   \n",
      "8   NaN      NaN                       NaN       NaN                NaN   \n",
      "9   1.0      1.0                       1.0       NaN                1.0   \n",
      "10  NaN      NaN                       NaN       NaN                NaN   \n",
      "11  NaN      NaN                       NaN       NaN                NaN   \n",
      "12  NaN      NaN                       NaN       NaN                NaN   \n",
      "13  NaN      NaN                       NaN       NaN                NaN   \n",
      "14  NaN      NaN                       NaN       NaN                NaN   \n",
      "15  NaN      NaN                       NaN       NaN                NaN   \n",
      "16  NaN      NaN                       NaN       NaN                NaN   \n",
      "17  NaN      NaN                       NaN       NaN                NaN   \n",
      "\n",
      "    high_blood_pressure  platelets  serum_creatinine  serum_sodium  sex  \\\n",
      "0                   1.0        1.0               1.0           1.0  1.0   \n",
      "0                   1.0        1.0               1.0           1.0  1.0   \n",
      "0                   1.0        1.0               1.0           1.0  1.0   \n",
      "1                   NaN        1.0               1.0           1.0  1.0   \n",
      "2                   NaN        1.0               1.0           1.0  1.0   \n",
      "3                   NaN        1.0               1.0           1.0  1.0   \n",
      "4                   NaN        1.0               1.0           1.0  NaN   \n",
      "5                   NaN        NaN               NaN           NaN  NaN   \n",
      "6                   NaN        NaN               NaN           NaN  NaN   \n",
      "7                   NaN        NaN               NaN           NaN  NaN   \n",
      "8                   NaN        NaN               NaN           NaN  NaN   \n",
      "9                   1.0        1.0               1.0           1.0  1.0   \n",
      "10                  NaN        NaN               NaN           NaN  NaN   \n",
      "11                  NaN        NaN               NaN           NaN  NaN   \n",
      "12                  NaN        NaN               NaN           NaN  NaN   \n",
      "13                  NaN        NaN               NaN           NaN  NaN   \n",
      "14                  NaN        NaN               NaN           NaN  NaN   \n",
      "15                  NaN        NaN               NaN           NaN  NaN   \n",
      "16                  NaN        NaN               NaN           NaN  NaN   \n",
      "17                  NaN        NaN               NaN           NaN  NaN   \n",
      "\n",
      "    smoking  time  DEATH_EVENT  \n",
      "0       NaN   1.0          1.0  \n",
      "0       NaN   1.0          1.0  \n",
      "0       NaN   1.0          1.0  \n",
      "1       NaN   1.0          1.0  \n",
      "2       1.0   1.0          1.0  \n",
      "3       NaN   1.0          1.0  \n",
      "4       NaN   1.0          1.0  \n",
      "5       NaN   NaN          NaN  \n",
      "6       NaN   NaN          NaN  \n",
      "7       NaN   NaN          NaN  \n",
      "8       NaN   NaN          NaN  \n",
      "9       1.0   1.0          1.0  \n",
      "10      NaN   NaN          NaN  \n",
      "11      NaN   NaN          NaN  \n",
      "12      NaN   NaN          NaN  \n",
      "13      NaN   NaN          NaN  \n",
      "14      NaN   NaN          NaN  \n",
      "15      NaN   NaN          NaN  \n",
      "16      NaN   NaN          NaN  \n",
      "17      NaN   NaN          NaN  \n"
     ]
    }
   ],
   "source": [
    "# 4\n",
    "# heart_df = heart_df/heart_df.loc[heart_df.abs().idxmax()].astype(np.float64)\n",
    "# print(heart_df.head(20))"
   ],
   "metadata": {
    "collapsed": false,
    "pycharm": {
     "name": "#%%\n"
    }
   }
  },
  {
   "cell_type": "code",
   "execution_count": 12,
   "outputs": [],
   "source": [
    "# 5\n",
    "# One-Hot encoded values of the DEATH_EVENT\n",
    "# x = pd.get_dummies(heart_df.DEATH_EVENT, prefix='DEATH_EVENT')\n",
    "# # Save to csv file\n",
    "# x.to_csv('heart_failure_dataset_processed.csv', index=False)\n"
   ],
   "metadata": {
    "collapsed": false,
    "pycharm": {
     "name": "#%%\n"
    }
   }
  }
 ],
 "metadata": {
  "kernelspec": {
   "display_name": "Python 3",
   "language": "python",
   "name": "python3"
  },
  "language_info": {
   "codemirror_mode": {
    "name": "ipython",
    "version": 2
   },
   "file_extension": ".py",
   "mimetype": "text/x-python",
   "name": "python",
   "nbconvert_exporter": "python",
   "pygments_lexer": "ipython2",
   "version": "2.7.6"
  }
 },
 "nbformat": 4,
 "nbformat_minor": 0
}