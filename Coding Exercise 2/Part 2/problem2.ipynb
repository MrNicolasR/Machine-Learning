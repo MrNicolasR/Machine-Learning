{
 "cells": [
  {
   "cell_type": "code",
   "execution_count": 481,
   "metadata": {
    "collapsed": true,
    "pycharm": {
     "name": "#%%\n"
    }
   },
   "outputs": [],
   "source": [
    "# Import Packages that was provided\n",
    "import numpy as np\n",
    "import pandas as pd\n",
    "from scipy import stats as sps\n",
    "from matplotlib import pyplot as plt\n",
    "from mpl_toolkits.mplot3d import Axes3D\n",
    "from IPython.display import display, Latex"
   ]
  },
  {
   "cell_type": "markdown",
   "source": [
    "*Question 2 A:*"
   ],
   "metadata": {
    "collapsed": false
   }
  },
  {
   "cell_type": "code",
   "execution_count": 482,
   "outputs": [
    {
     "name": "stdout",
     "output_type": "stream",
     "text": [
      "[[-0.6638943   0.09941677]\n",
      " [-0.55235098  0.09317108]\n",
      " [-0.23241957  1.42890792]]\n"
     ]
    }
   ],
   "source": [
    "# 2A.I\n",
    "# Create Matrix\n",
    "matrix = np.random.randn(3,2)\n",
    "# Print Matrix\n",
    "print(matrix)"
   ],
   "metadata": {
    "collapsed": false,
    "pycharm": {
     "name": "#%%\n"
    }
   }
  },
  {
   "cell_type": "code",
   "execution_count": 483,
   "outputs": [
    {
     "name": "stdout",
     "output_type": "stream",
     "text": [
      "The rank of the matrix is: 2\n"
     ]
    }
   ],
   "source": [
    "# 2A.II\n",
    "# Get matrix rank\n",
    "rank = np.linalg.matrix_rank(matrix)\n",
    "\n",
    "# Print Matrix Rank\n",
    "print(\"The rank of the matrix is:\",rank)"
   ],
   "metadata": {
    "collapsed": false,
    "pycharm": {
     "name": "#%%\n"
    }
   }
  },
  {
   "cell_type": "code",
   "execution_count": 484,
   "outputs": [
    {
     "name": "stdout",
     "output_type": "stream",
     "text": [
      "Norm of Vector 0 : 0.8943523403281968\n",
      "Norm of Vector 1 : 1.43538927936776\n",
      "Inner product: -0.44957153668815725\n"
     ]
    }
   ],
   "source": [
    "# 2A.III\n",
    "# Get the norm of each vector in the matrix\n",
    "for x in range(2):\n",
    "    # Print the norm of the vector\n",
    "    print(\"Norm of Vector\", x, \":\", np.linalg.norm(matrix[:,x]))\n",
    "\n",
    "# Get vector A\n",
    "vectorA = np.squeeze(np.asarray(matrix[:,0]))\n",
    "# Get vector B\n",
    "vectorB = np.squeeze(np.asarray(matrix[:,1]))\n",
    "\n",
    "# Print Inner product\n",
    "print(\"Inner product:\", np.inner(vectorA, vectorB))"
   ],
   "metadata": {
    "collapsed": false,
    "pycharm": {
     "name": "#%%\n"
    }
   }
  },
  {
   "cell_type": "code",
   "execution_count": 485,
   "outputs": [
    {
     "name": "stdout",
     "output_type": "stream",
     "text": [
      "Vector 1: [-0.74231851 -0.61759886 -0.25987473]\n",
      "Vector 2: [-0.20359422 -0.16160943  0.96562508]\n",
      "Vector 3: [-0.94591273 -0.77920829  0.70575034]\n"
     ]
    }
   ],
   "source": [
    "# 2A.IV\n",
    "# Factorization of the matrix where q is orthonormal and r is upper-triangular\n",
    "q, r = np.linalg.qr(matrix)\n",
    "# Get vector 1\n",
    "vector1 = np.squeeze(np.asarray(q[:,0]))\n",
    "# Get vector 2\n",
    "vector2 = np.squeeze(np.asarray(q[:,1]))\n",
    "# Get vector 3\n",
    "vector3 = vector1 + vector2\n",
    "\n",
    "# Print the vectors that lie in the subspace\n",
    "print(\"Vector 1:\", vector1)\n",
    "print(\"Vector 2:\", vector2)\n",
    "print(\"Vector 3:\", vector3)\n"
   ],
   "metadata": {
    "collapsed": false,
    "pycharm": {
     "name": "#%%\n"
    }
   }
  },
  {
   "cell_type": "markdown",
   "source": [
    "*Question 2 B*"
   ],
   "metadata": {
    "collapsed": false
   }
  },
  {
   "cell_type": "code",
   "execution_count": 486,
   "outputs": [],
   "source": [
    "# 2B.I\n",
    "# Second matrix made with 250 x 3 samples\n",
    "xMatrix = np.zeros((250, 3))\n",
    "# Get x = Ab\n",
    "for i in range(250):\n",
    "    # Random b values\n",
    "    b = np.random.randn(2, 1)\n",
    "    # Multiply A by b to get x i.e. x = Ab\n",
    "    x = np.matmul(matrix, b)\n",
    "    xMatrix[i] = np.squeeze(x)"
   ],
   "metadata": {
    "collapsed": false,
    "pycharm": {
     "name": "#%%\n"
    }
   }
  },
  {
   "cell_type": "markdown",
   "source": [
    "2B.II\n",
    "\n",
    "Each sample of $x_{i}$ lies in the span of S and can be written as a linear combinations of the vector."
   ],
   "metadata": {
    "collapsed": false,
    "pycharm": {
     "name": "#%% md\n"
    }
   }
  },
  {
   "cell_type": "code",
   "execution_count": 487,
   "outputs": [
    {
     "name": "stdout",
     "output_type": "stream",
     "text": [
      "n is 250, p is 3\n",
      "Dimensionality of X Matrix: (250, 3)\n"
     ]
    }
   ],
   "source": [
    "# 2B.III\n",
    "# Print the dimensions of the X matrix\n",
    "print(\"n is 250, p is 3\")\n",
    "# Confirm the dimensions of the X Matrix\n",
    "print(\"Dimensionality of X Matrix:\", np.shape(xMatrix))"
   ],
   "metadata": {
    "collapsed": false,
    "pycharm": {
     "name": "#%%\n"
    }
   }
  },
  {
   "cell_type": "code",
   "execution_count": 488,
   "outputs": [
    {
     "name": "stdout",
     "output_type": "stream",
     "text": [
      "2\n"
     ]
    }
   ],
   "source": [
    "# 2B.IV\n",
    "# Get rank of the X matrix\n",
    "rank = np.linalg.matrix_rank(xMatrix)\n",
    "# Print the rank of the X matrix\n",
    "print(rank)"
   ],
   "metadata": {
    "collapsed": false,
    "pycharm": {
     "name": "#%%\n"
    }
   }
  },
  {
   "cell_type": "markdown",
   "source": [
    "*Question 2 C*"
   ],
   "metadata": {
    "collapsed": false
   }
  },
  {
   "cell_type": "code",
   "execution_count": 489,
   "outputs": [
    {
     "name": "stdout",
     "output_type": "stream",
     "text": [
      "Right Singular Vector: \n",
      "[[ 0.20840866 -0.74098125  0.63836715]\n",
      " [ 0.18005711 -0.61247481 -0.76971036]\n",
      " [ 0.96132475  0.27535685  0.00577388]]\n",
      "Eigen Vector: \n",
      "[[-0.20840866 -0.74098125  0.63836715]\n",
      " [-0.18005711 -0.61247481 -0.76971036]\n",
      " [-0.96132475  0.27535685  0.00577388]]\n"
     ]
    }
   ],
   "source": [
    "# 2C.IA\n",
    "# Single Value Decomposition\n",
    "u, s, vh = np.linalg.svd(xMatrix)\n",
    "# Get Eigen Vectors\n",
    "w, v = np.linalg.eig(np.matmul(np.transpose(xMatrix), xMatrix))\n",
    "right = np.transpose(vh)\n",
    "eigenVector = v\n",
    "\n",
    "# Print Right singular vector\n",
    "print(\"Right Singular Vector: \")\n",
    "print(right)\n",
    "\n",
    "# Print Eigen Values\n",
    "print(\"Eigen Vector: \")\n",
    "print(eigenVector)"
   ],
   "metadata": {
    "collapsed": false,
    "pycharm": {
     "name": "#%%\n"
    }
   }
  },
  {
   "cell_type": "code",
   "execution_count": 490,
   "outputs": [
    {
     "name": "stdout",
     "output_type": "stream",
     "text": [
      "Eigen Values: \n",
      "[5.86487019e+02 1.59520479e+02 1.29897820e-29]\n"
     ]
    }
   ],
   "source": [
    "# 2C.IB\n",
    "# Singular Values Squared == Eigen Values\n",
    "sSquared = np.power(s, 2)\n",
    "# Print Eigen Values (Singular Values Squared)\n",
    "print(\"Eigen Values: \")\n",
    "print(sSquared)"
   ],
   "metadata": {
    "collapsed": false,
    "pycharm": {
     "name": "#%%\n"
    }
   }
  },
  {
   "cell_type": "code",
   "execution_count": 491,
   "outputs": [
    {
     "name": "stdout",
     "output_type": "stream",
     "text": [
      "Energy of X Matrix: 746.0074984816171\n"
     ]
    }
   ],
   "source": [
    "# 2C.IC\n",
    "# Get the energy of the X Matrix\n",
    "sum = np.sum(sSquared)\n",
    "# Print the energy\n",
    "print(\"Energy of X Matrix:\", sum)"
   ],
   "metadata": {
    "collapsed": false,
    "pycharm": {
     "name": "#%%\n"
    }
   }
  },
  {
   "cell_type": "code",
   "execution_count": 492,
   "outputs": [
    {
     "name": "stdout",
     "output_type": "stream",
     "text": [
      "[2.42174941e+01 1.26301417e+01 3.60413402e-15]\n"
     ]
    },
    {
     "data": {
      "text/plain": "'\\nI would assume due to the way floats work along with the random function and the rounding when we used the svd function\\nfor the matrix the final number should be zero but is a float instead. Seeing how it is e ^ -16 it is very\\nclose to zero.\\n'"
     },
     "execution_count": 492,
     "metadata": {},
     "output_type": "execute_result"
    }
   ],
   "source": [
    "# 2C.IIA\n",
    "print(s)\n",
    "'''\n",
    "I would assume due to the way floats work along with the random function and the rounding when we used the svd function\n",
    "for the matrix the final number should be zero but is a float instead. Seeing how it is e ^ -16 it is very\n",
    "close to zero.\n",
    "'''\n"
   ],
   "metadata": {
    "collapsed": false,
    "pycharm": {
     "name": "#%%\n"
    }
   }
  },
  {
   "cell_type": "markdown",
   "source": [
    "*2C.IIB*\n",
    "\n",
    "The right singular row vectors are the axes for the subspace S as they are also the said axes for linear transformation\n",
    "matrix A."
   ],
   "metadata": {
    "collapsed": false,
    "pycharm": {
     "name": "#%% md\n"
    }
   }
  },
  {
   "cell_type": "markdown",
   "source": [
    "*2D.I*\n",
    "\n",
    "The data samples created in X are linear combinations of the two linearly independent vectors of matrix A.\n",
    "This allows for two 2 principal components to be used to capture the data."
   ],
   "metadata": {
    "collapsed": false
   }
  },
  {
   "cell_type": "markdown",
   "source": [
    "*2D.IIA*\n",
    "\n",
    " $x_{k,i}$ is an Independent and Identically Distributed random variable that should have a value zero"
   ],
   "metadata": {
    "collapsed": false
   }
  },
  {
   "cell_type": "code",
   "execution_count": 493,
   "outputs": [
    {
     "name": "stdout",
     "output_type": "stream",
     "text": [
      "Mean Vector: \n",
      "[0.02232104 0.01879442 0.03762436]\n"
     ]
    }
   ],
   "source": [
    "#2D.IIB\n",
    "# Empirical Mean Vector\n",
    "mean = np.mean(xMatrix, axis=0)\n",
    "print(\"Mean Vector: \")\n",
    "print(mean)\n"
   ],
   "metadata": {
    "collapsed": false,
    "pycharm": {
     "name": "#%%\n"
    }
   }
  },
  {
   "cell_type": "code",
   "execution_count": 494,
   "outputs": [
    {
     "name": "stdout",
     "output_type": "stream",
     "text": [
      "u1:\n",
      "[0.20840866 0.18005711 0.96132475]\n",
      "u2:\n",
      "[-0.74098125 -0.61247481  0.27535685]\n"
     ]
    }
   ],
   "source": [
    "# 2D.III\n",
    "# Get the max values for u1\n",
    "a = s\n",
    "max1index = np.argmax(a)\n",
    "# U1\n",
    "u1 = np.transpose(vh)[:, max1index]\n",
    "# Get the max values for u2\n",
    "a[max1index] = -1\n",
    "max2index = np.argmax(a)\n",
    "# U2\n",
    "u2 = np.transpose(vh)[:, max2index]\n",
    "# Print U1\n",
    "print(\"u1:\")\n",
    "print(u1)\n",
    "# Print U2\n",
    "print(\"u2:\")\n",
    "print(u2)"
   ],
   "metadata": {
    "collapsed": false,
    "pycharm": {
     "name": "#%%\n"
    }
   }
  },
  {
   "cell_type": "code",
   "execution_count": 495,
   "outputs": [],
   "source": [
    "# 2D.IV\n",
    "# U = two principals component directions\n",
    "u = np.matrix([u1, u2])\n",
    "# Compute the features of the Matrix\n",
    "features = np.transpose(np.matmul(u, np.transpose(xMatrix)))\n"
   ],
   "metadata": {
    "collapsed": false,
    "pycharm": {
     "name": "#%%\n"
    }
   }
  },
  {
   "cell_type": "code",
   "execution_count": 496,
   "outputs": [],
   "source": [
    "# 2D.V\n",
    "# Compute to reconstruct original data samples of X\n",
    "og = np.matmul(features, u)\n"
   ],
   "metadata": {
    "collapsed": false,
    "pycharm": {
     "name": "#%%\n"
    }
   }
  },
  {
   "cell_type": "code",
   "execution_count": 497,
   "outputs": [
    {
     "name": "stdout",
     "output_type": "stream",
     "text": [
      "Error:\n",
      "2.3732609529768366e-29\n"
     ]
    }
   ],
   "source": [
    "# 2D.V\n",
    "# Compute the error (Try for a value 0)\n",
    "error = np.power(np.linalg.norm(og - xMatrix), 2)\n",
    "# Print error\n",
    "print(\"Error:\")\n",
    "print(error)"
   ],
   "metadata": {
    "collapsed": false,
    "pycharm": {
     "name": "#%%\n"
    }
   }
  },
  {
   "cell_type": "code",
   "execution_count": 498,
   "outputs": [],
   "source": [
    "# 2D.VII\n",
    "# Get top principal component of X\n",
    "u = np.zeros((3,2))\n",
    "u[:, 0] = u1\n",
    "# New Features\n",
    "features = np.matmul(xMatrix, u)"
   ],
   "metadata": {
    "collapsed": false,
    "pycharm": {
     "name": "#%%\n"
    }
   }
  },
  {
   "cell_type": "code",
   "execution_count": 499,
   "outputs": [],
   "source": [
    "# 2D.VIII\n",
    "# Compute the Original data samples\n",
    "original = np.matmul(features, np.transpose(u))\n"
   ],
   "metadata": {
    "collapsed": false,
    "pycharm": {
     "name": "#%%\n"
    }
   }
  },
  {
   "cell_type": "code",
   "execution_count": 500,
   "outputs": [
    {
     "name": "stdout",
     "output_type": "stream",
     "text": [
      "Error:\n",
      "159.52047926022107\n",
      "Second-largest singular value of X:\n",
      "159.52047926022104\n"
     ]
    }
   ],
   "source": [
    "# 2D.IX\n",
    "# Compute the Error\n",
    "error = np.power(np.linalg.norm(original - xMatrix), 2)\n",
    "# Print Error\n",
    "print(\"Error:\")\n",
    "print(error)\n",
    "# Get the second-largest singular value of X\n",
    "second = np.power(s[max2index], 2)\n",
    "# Print the second-largest singular value of X\n",
    "print(\"Second-largest singular value of X:\")\n",
    "print(second)\n"
   ],
   "metadata": {
    "collapsed": false,
    "pycharm": {
     "name": "#%%\n"
    }
   }
  },
  {
   "cell_type": "code",
   "execution_count": 501,
   "outputs": [
    {
     "data": {
      "text/plain": "<Figure size 432x288 with 2 Axes>",
      "image/png": "[encoded data removed]"
     },
     "metadata": {
      "needs_background": "light"
     },
     "output_type": "display_data"
    },
    {
     "data": {
      "text/plain": "'\\nThe first shape is scattered while the second shape is more like a line. The second shape is the result of PCA\\ncalculations that we made.\\n'"
     },
     "execution_count": 501,
     "metadata": {},
     "output_type": "execute_result"
    }
   ],
   "source": [
    "# 2D.X\n",
    "# Make new figure\n",
    "figure = plt.figure()\n",
    "# Make a 3D projection\n",
    "ax1 = figure.add_subplot(121, projection = '3d')\n",
    "ax1.scatter(xMatrix[:, 0], xMatrix[:, 1], xMatrix[:, 2])\n",
    "# Reconstructed Matrix\n",
    "ax2 = figure.add_subplot(122, projection = '3d')\n",
    "ax2.scatter(original[:, 0], original[:, 1], original[:, 2])\n",
    "plt.subplots_adjust(0, 0, 1, 1, 0.1, 0)\n",
    "# Print Figure\n",
    "plt.show()\n",
    "\n",
    "'''\n",
    "The first shape is scattered while the second shape is more like a line. The second shape is the result of PCA\n",
    "calculations that we made.\n",
    "'''\n"
   ],
   "metadata": {
    "collapsed": false,
    "pycharm": {
     "name": "#%%\n"
    }
   }
  }
 ],
 "metadata": {
  "kernelspec": {
   "display_name": "Python 3",
   "language": "python",
   "name": "python3"
  },
  "language_info": {
   "codemirror_mode": {
    "name": "ipython",
    "version": 2
   },
   "file_extension": ".py",
   "mimetype": "text/x-python",
   "name": "python",
   "nbconvert_exporter": "python",
   "pygments_lexer": "ipython2",
   "version": "2.7.6"
  }
 },
 "nbformat": 4,
 "nbformat_minor": 0
}